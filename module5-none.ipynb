{
 "cells": [
  {
   "cell_type": "code",
   "execution_count": 1,
   "id": "357e14c3",
   "metadata": {},
   "outputs": [
    {
     "name": "stdout",
     "output_type": "stream",
     "text": [
      "Hello World\n",
      "None\n"
     ]
    }
   ],
   "source": [
    "print_return = print('Hello World')\n",
    "print(print_return)"
   ]
  },
  {
   "cell_type": "code",
   "execution_count": 2,
   "id": "db5553bf",
   "metadata": {},
   "outputs": [],
   "source": [
    "# None a special value in python\n",
    "# describes a null value"
   ]
  },
  {
   "cell_type": "code",
   "execution_count": 3,
   "id": "e8c885e3",
   "metadata": {},
   "outputs": [
    {
     "name": "stdout",
     "output_type": "stream",
     "text": [
      "yes\n",
      "it does\n"
     ]
    }
   ],
   "source": [
    "x = None\n",
    "\n",
    "if x is None:\n",
    "    print('yes')\n",
    "if x == None:\n",
    "    print('it does')"
   ]
  },
  {
   "cell_type": "code",
   "execution_count": null,
   "id": "67b8d62a",
   "metadata": {},
   "outputs": [],
   "source": [
    "#None is a value that is returned implicitly by functions that return nothing meaningful\n",
    "# functions can typically: 1 cause an effect or return a meaningful value"
   ]
  }
 ],
 "metadata": {
  "kernelspec": {
   "display_name": "Python 3 (ipykernel)",
   "language": "python",
   "name": "python3"
  },
  "language_info": {
   "codemirror_mode": {
    "name": "ipython",
    "version": 3
   },
   "file_extension": ".py",
   "mimetype": "text/x-python",
   "name": "python",
   "nbconvert_exporter": "python",
   "pygments_lexer": "ipython3",
   "version": "3.9.13"
  }
 },
 "nbformat": 4,
 "nbformat_minor": 5
}
