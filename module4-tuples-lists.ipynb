{
 "cells": [
  {
   "cell_type": "code",
   "execution_count": 1,
   "id": "10608474",
   "metadata": {},
   "outputs": [],
   "source": [
    "# Python allows for lists to be elements in tuples and vice versa"
   ]
  },
  {
   "cell_type": "code",
   "execution_count": 2,
   "id": "4a5f0e0f",
   "metadata": {},
   "outputs": [],
   "source": [
    "city_1 = ('London', 'UK', 8.98)"
   ]
  },
  {
   "cell_type": "code",
   "execution_count": 3,
   "id": "aa22ebd7",
   "metadata": {},
   "outputs": [],
   "source": [
    "city_2 = ('Canberra', 'Australia', 0.4)"
   ]
  },
  {
   "cell_type": "code",
   "execution_count": 4,
   "id": "c2d37a59",
   "metadata": {},
   "outputs": [],
   "source": [
    "city_3 = ('Algiers', 'Algeria', 3.9,)"
   ]
  },
  {
   "cell_type": "code",
   "execution_count": 5,
   "id": "33718ef6",
   "metadata": {},
   "outputs": [],
   "source": [
    "capitals =[('London', 'UK', 8.98),('Canberra', 'Australia', 0.4),('Algiers', 'Algeria', 3.9,)]"
   ]
  },
  {
   "cell_type": "code",
   "execution_count": 8,
   "id": "44bb1118",
   "metadata": {},
   "outputs": [
    {
     "name": "stdout",
     "output_type": "stream",
     "text": [
      "Name: ('London', 'UK', 8.98)\n",
      "Name: ('London', 'UK', 8.98)\n",
      "Name: ('London', 'UK', 8.98)\n"
     ]
    }
   ],
   "source": [
    "capitals =[('London', 'UK', 8.98),('Canberra', 'Australia', 0.4),('Algiers', 'Algeria', 3.9,)]\n",
    "for capital in capitals:\n",
    "    print('Name:', capitals[0])\n",
    "    "
   ]
  },
  {
   "cell_type": "code",
   "execution_count": null,
   "id": "20dbfb9f",
   "metadata": {},
   "outputs": [],
   "source": [
    "# If a tuple contains a list, that is mutable, then the element list can be modified "
   ]
  }
 ],
 "metadata": {
  "kernelspec": {
   "display_name": "Python 3 (ipykernel)",
   "language": "python",
   "name": "python3"
  },
  "language_info": {
   "codemirror_mode": {
    "name": "ipython",
    "version": 3
   },
   "file_extension": ".py",
   "mimetype": "text/x-python",
   "name": "python",
   "nbconvert_exporter": "python",
   "pygments_lexer": "ipython3",
   "version": "3.9.13"
  }
 },
 "nbformat": 4,
 "nbformat_minor": 5
}
