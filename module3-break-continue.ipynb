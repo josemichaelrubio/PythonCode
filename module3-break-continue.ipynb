{
 "cells": [
  {
   "cell_type": "code",
   "execution_count": 1,
   "id": "3e47cd53",
   "metadata": {},
   "outputs": [],
   "source": [
    "# keywords: break continue"
   ]
  },
  {
   "cell_type": "code",
   "execution_count": 5,
   "id": "2c184dff",
   "metadata": {},
   "outputs": [
    {
     "name": "stdout",
     "output_type": "stream",
     "text": [
      "enter your name or exit to close the program: Jose\n",
      "hello Jose\n",
      "enter your name or exit to close the program: exit\n"
     ]
    }
   ],
   "source": [
    "# break: \n",
    "#exits the loop and continues the next instruction outside of the loop\n",
    "while True:\n",
    "    name = input('enter your name or exit to close the program: ')\n",
    "    if(name == \"exit\"):\n",
    "        break\n",
    "    print(\"hello\" , name)"
   ]
  },
  {
   "cell_type": "code",
   "execution_count": 7,
   "id": "efbdb47e",
   "metadata": {},
   "outputs": [
    {
     "name": "stdout",
     "output_type": "stream",
     "text": [
      "1\n",
      "2\n",
      "3\n",
      "4\n",
      "6\n",
      "7\n",
      "8\n",
      "9\n",
      "11\n",
      "12\n",
      "13\n",
      "14\n",
      "16\n",
      "17\n",
      "18\n",
      "19\n"
     ]
    }
   ],
   "source": [
    "# continue\n",
    "# exit the current iteration and moves on to the next\n",
    "for i in range(1,21):\n",
    "    if i % 5== 0: #if the number can be divided by 5, we skip that result and return to the top of the loop\n",
    "        continue\n",
    "    print(i)\n",
    "    "
   ]
  },
  {
   "cell_type": "code",
   "execution_count": null,
   "id": "e241d03d",
   "metadata": {},
   "outputs": [],
   "source": []
  }
 ],
 "metadata": {
  "kernelspec": {
   "display_name": "Python 3 (ipykernel)",
   "language": "python",
   "name": "python3"
  },
  "language_info": {
   "codemirror_mode": {
    "name": "ipython",
    "version": 3
   },
   "file_extension": ".py",
   "mimetype": "text/x-python",
   "name": "python",
   "nbconvert_exporter": "python",
   "pygments_lexer": "ipython3",
   "version": "3.9.13"
  }
 },
 "nbformat": 4,
 "nbformat_minor": 5
}
