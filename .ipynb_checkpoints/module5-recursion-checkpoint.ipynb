{
 "cells": [
  {
   "cell_type": "code",
   "execution_count": 1,
   "id": "547ead78",
   "metadata": {},
   "outputs": [],
   "source": [
    "# Recursion takes place when a function calls itself"
   ]
  },
  {
   "cell_type": "code",
   "execution_count": 2,
   "id": "e95a3025",
   "metadata": {},
   "outputs": [],
   "source": [
    "# factorial= multiplcatiopn of 1 after a number\n",
    "# 3! = 1 * 2 * 3 = 6"
   ]
  },
  {
   "cell_type": "code",
   "execution_count": 4,
   "id": "5839c945",
   "metadata": {},
   "outputs": [
    {
     "name": "stdout",
     "output_type": "stream",
     "text": [
      "6\n"
     ]
    }
   ],
   "source": [
    "# iterative (non-recursive)\n",
    "def get_factorial(number):\n",
    "    factorial = 1\n",
    "    for x in range(1, number +1):\n",
    "        factorial *= x\n",
    "    return factorial\n",
    "print(get_factorial(3))"
   ]
  },
  {
   "cell_type": "code",
   "execution_count": 7,
   "id": "f2168653",
   "metadata": {},
   "outputs": [
    {
     "data": {
      "text/plain": [
       "6"
      ]
     },
     "execution_count": 7,
     "metadata": {},
     "output_type": "execute_result"
    }
   ],
   "source": [
    "# Recursion\n",
    "def get_factorial_recursive(number):\n",
    "    if number <=1:   # Stop condition = something that tells a function when to stop\n",
    "        return 1\n",
    "    return number * get_factorial_recursive(number -1) #function calling itself\n",
    "  \n",
    "get_factorial_recursive(3)"
   ]
  },
  {
   "cell_type": "code",
   "execution_count": null,
   "id": "92730859",
   "metadata": {},
   "outputs": [],
   "source": [
    "#recursive is a method that calls itself\n",
    "# it needs a stop condition, otherwise, it will repeat"
   ]
  }
 ],
 "metadata": {
  "kernelspec": {
   "display_name": "Python 3 (ipykernel)",
   "language": "python",
   "name": "python3"
  },
  "language_info": {
   "codemirror_mode": {
    "name": "ipython",
    "version": 3
   },
   "file_extension": ".py",
   "mimetype": "text/x-python",
   "name": "python",
   "nbconvert_exporter": "python",
   "pygments_lexer": "ipython3",
   "version": "3.9.13"
  }
 },
 "nbformat": 4,
 "nbformat_minor": 5
}
