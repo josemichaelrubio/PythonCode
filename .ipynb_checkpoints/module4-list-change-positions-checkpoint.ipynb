{
 "cells": [
  {
   "cell_type": "code",
   "execution_count": 1,
   "id": "f33a3166",
   "metadata": {},
   "outputs": [
    {
     "name": "stdout",
     "output_type": "stream",
     "text": [
      "Enter first number: 1\n",
      "Enter second number: 2\n",
      "Swapping 2 1\n"
     ]
    }
   ],
   "source": [
    "first= input('Enter first number: ')\n",
    "second= input('Enter second number: ')\n",
    "#To swap values of two variables, we need a third variable to store a value\n",
    "third = first\n",
    "first = second\n",
    "second = third\n",
    "\n",
    "print('Swapping', first, second)\n"
   ]
  },
  {
   "cell_type": "code",
   "execution_count": 2,
   "id": "3743ef5f",
   "metadata": {},
   "outputs": [
    {
     "name": "stdout",
     "output_type": "stream",
     "text": [
      "Enter first number: 1\n",
      "Enter second number: 2\n",
      "Swapping 2 1\n"
     ]
    }
   ],
   "source": [
    "first= input('Enter first number: ')\n",
    "second= input('Enter second number: ')\n",
    "# However, Python has a short cut\n",
    "first, second = second, first\n",
    "print('Swapping', first, second)"
   ]
  },
  {
   "cell_type": "code",
   "execution_count": 5,
   "id": "42696fec",
   "metadata": {},
   "outputs": [
    {
     "name": "stdout",
     "output_type": "stream",
     "text": [
      "swapping elements in a a list: C A\n",
      "['C', 'B', 'A']\n"
     ]
    }
   ],
   "source": [
    "# The shortcut for numbers works the same for list elements\n",
    "aList= ['A','B','C']\n",
    "aList[0], aList [2] = aList[2], aList [0]\n",
    "print ('swapping elements in a a list:' ,aList[0], aList[2])\n",
    "print(aList)"
   ]
  },
  {
   "cell_type": "code",
   "execution_count": 6,
   "id": "b9ebef44",
   "metadata": {},
   "outputs": [
    {
     "name": "stdout",
     "output_type": "stream",
     "text": [
      "['A', 'B', 'C']\n"
     ]
    }
   ],
   "source": [
    "# Lists of Strings can be sorted by alphabetical order:\n",
    "aList= ['A','B','C']\n",
    "aList[0], aList [2] = aList[2], aList [0]\n",
    "aList.sort()\n",
    "print(aList)"
   ]
  },
  {
   "cell_type": "code",
   "execution_count": 7,
   "id": "4cebe381",
   "metadata": {},
   "outputs": [
    {
     "name": "stdout",
     "output_type": "stream",
     "text": [
      "['1', '2', '3']\n"
     ]
    }
   ],
   "source": [
    "# Lists of Numbers can also be sorted from Least to greatest\n",
    "aList= ['1','3','2']\n",
    "aList.sort()\n",
    "print(aList)"
   ]
  },
  {
   "cell_type": "code",
   "execution_count": 8,
   "id": "e9bb9e79",
   "metadata": {},
   "outputs": [
    {
     "name": "stdout",
     "output_type": "stream",
     "text": [
      "['3', '2', '1']\n"
     ]
    }
   ],
   "source": [
    "# How to reverse the sorting of numbers or strings\n",
    "aList= ['1','3','2']\n",
    "aList.sort(reverse = True) #reverse keyword\n",
    "print(aList)"
   ]
  },
  {
   "cell_type": "code",
   "execution_count": 9,
   "id": "57ec1590",
   "metadata": {},
   "outputs": [
    {
     "name": "stdout",
     "output_type": "stream",
     "text": [
      "['1', '2', '3']\n",
      "['1', '3', '2']\n"
     ]
    }
   ],
   "source": [
    "# sort() is a method, it alters and changes the list\n",
    "# if you want to sort and print a list without altering the order of elements in the originial list:\n",
    "aList= ['1','3','2']\n",
    "print(sorted(aList)) #within the print: sorted()\n",
    "print(aList)"
   ]
  },
  {
   "cell_type": "code",
   "execution_count": null,
   "id": "6a4bce3f",
   "metadata": {},
   "outputs": [],
   "source": []
  }
 ],
 "metadata": {
  "kernelspec": {
   "display_name": "Python 3 (ipykernel)",
   "language": "python",
   "name": "python3"
  },
  "language_info": {
   "codemirror_mode": {
    "name": "ipython",
    "version": 3
   },
   "file_extension": ".py",
   "mimetype": "text/x-python",
   "name": "python",
   "nbconvert_exporter": "python",
   "pygments_lexer": "ipython3",
   "version": "3.9.13"
  }
 },
 "nbformat": 4,
 "nbformat_minor": 5
}
