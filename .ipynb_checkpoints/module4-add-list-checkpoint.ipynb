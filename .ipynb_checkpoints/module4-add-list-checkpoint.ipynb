{
 "cells": [
  {
   "cell_type": "code",
   "execution_count": 1,
   "id": "c6fee6ed",
   "metadata": {},
   "outputs": [],
   "source": [
    "# Method is a specific kind of function, it is owned by the data"
   ]
  },
  {
   "cell_type": "code",
   "execution_count": 2,
   "id": "1515b840",
   "metadata": {},
   "outputs": [
    {
     "name": "stdout",
     "output_type": "stream",
     "text": [
      "[7, 9, 5, 6, 8, 4]\n"
     ]
    }
   ],
   "source": [
    "# .append() method\n",
    "book_rating = [7,9,5,6,8]\n",
    "book_rating.append(4)\n",
    "print(book_rating)"
   ]
  },
  {
   "cell_type": "code",
   "execution_count": 3,
   "id": "2b5d3eda",
   "metadata": {},
   "outputs": [],
   "source": [
    "#methods are invoked after the ."
   ]
  },
  {
   "cell_type": "code",
   "execution_count": 4,
   "id": "4343548d",
   "metadata": {},
   "outputs": [],
   "source": [
    "#methods are functions that belong to specific data"
   ]
  },
  {
   "cell_type": "code",
   "execution_count": 8,
   "id": "2474c8d8",
   "metadata": {},
   "outputs": [
    {
     "name": "stdout",
     "output_type": "stream",
     "text": [
      "[7, 10, 9, 5, 6, 8, 4]\n"
     ]
    }
   ],
   "source": [
    "# .insert() method\n",
    "book_rating.insert(1,10)\n",
    "print(book_rating)"
   ]
  },
  {
   "cell_type": "code",
   "execution_count": null,
   "id": "6d471201",
   "metadata": {},
   "outputs": [],
   "source": []
  }
 ],
 "metadata": {
  "kernelspec": {
   "display_name": "Python 3 (ipykernel)",
   "language": "python",
   "name": "python3"
  },
  "language_info": {
   "codemirror_mode": {
    "name": "ipython",
    "version": 3
   },
   "file_extension": ".py",
   "mimetype": "text/x-python",
   "name": "python",
   "nbconvert_exporter": "python",
   "pygments_lexer": "ipython3",
   "version": "3.9.13"
  }
 },
 "nbformat": 4,
 "nbformat_minor": 5
}
