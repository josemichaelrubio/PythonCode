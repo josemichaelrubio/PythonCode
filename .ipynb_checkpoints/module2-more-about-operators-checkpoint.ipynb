{
 "cells": [
  {
   "cell_type": "code",
   "execution_count": 2,
   "id": "156536d7",
   "metadata": {},
   "outputs": [
    {
     "data": {
      "text/plain": [
       "-2"
      ]
     },
     "execution_count": 2,
     "metadata": {},
     "output_type": "execute_result"
    }
   ],
   "source": [
    "5-7"
   ]
  },
  {
   "cell_type": "code",
   "execution_count": 3,
   "id": "25e5d3ae",
   "metadata": {},
   "outputs": [
    {
     "data": {
      "text/plain": [
       "12"
      ]
     },
     "execution_count": 3,
     "metadata": {},
     "output_type": "execute_result"
    }
   ],
   "source": [
    "5+7"
   ]
  },
  {
   "cell_type": "code",
   "execution_count": 4,
   "id": "4d3f0d49",
   "metadata": {},
   "outputs": [],
   "source": [
    "# Binary Operators: + and -, they work with two values"
   ]
  },
  {
   "cell_type": "code",
   "execution_count": 9,
   "id": "9d1a03f5",
   "metadata": {},
   "outputs": [
    {
     "name": "stdout",
     "output_type": "stream",
     "text": [
      "12\n",
      "-12\n"
     ]
    }
   ],
   "source": [
    "#Unary Operators: they work with one value\n",
    "print(+12)\n",
    "print(-12)"
   ]
  },
  {
   "cell_type": "code",
   "execution_count": 6,
   "id": "7c46fd0c",
   "metadata": {},
   "outputs": [],
   "source": [
    "# order of operators (same as math)\n",
    "# 1. **\n",
    "# 2. * / // %\n",
    "# 3. + -\n",
    "\n",
    "#brackets can be used to change the order of operators (like math)"
   ]
  },
  {
   "cell_type": "code",
   "execution_count": 7,
   "id": "ba5ac18f",
   "metadata": {},
   "outputs": [
    {
     "data": {
      "text/plain": [
       "1.0"
      ]
     },
     "execution_count": 7,
     "metadata": {},
     "output_type": "execute_result"
    }
   ],
   "source": [
    "2/2\n"
   ]
  },
  {
   "cell_type": "code",
   "execution_count": 8,
   "id": "eb968fc0",
   "metadata": {},
   "outputs": [
    {
     "data": {
      "text/plain": [
       "1"
      ]
     },
     "execution_count": 8,
     "metadata": {},
     "output_type": "execute_result"
    }
   ],
   "source": [
    "2//2\n"
   ]
  },
  {
   "cell_type": "code",
   "execution_count": 10,
   "id": "f58dceb8",
   "metadata": {},
   "outputs": [
    {
     "name": "stdout",
     "output_type": "stream",
     "text": [
      "0.1\n",
      "0.30000000000000004\n"
     ]
    }
   ],
   "source": [
    "# Binary: \n",
    "# 1= on\n",
    "# 0= off\n",
    "# Most floats cannot be represented with binary fractions, so they are rounded. So float numbers are not entirely accurate\n",
    "print(0.1)\n",
    "print(0.1 + 0.1+ 0.1) #expecting .3 but..."
   ]
  },
  {
   "cell_type": "code",
   "execution_count": 11,
   "id": "2e6cb41d",
   "metadata": {},
   "outputs": [],
   "source": [
    "#pay attention when working with floats in python"
   ]
  },
  {
   "cell_type": "code",
   "execution_count": 12,
   "id": "9fe6f5e1",
   "metadata": {},
   "outputs": [
    {
     "data": {
      "text/plain": [
       "256"
      ]
     },
     "execution_count": 12,
     "metadata": {},
     "output_type": "execute_result"
    }
   ],
   "source": [
    "# The exponentation operator ** uses right-sided binding!\n",
    "# ** starts from the right\n",
    "2 ** 2 ** 3"
   ]
  },
  {
   "cell_type": "code",
   "execution_count": 13,
   "id": "ae94d5df",
   "metadata": {},
   "outputs": [
    {
     "data": {
      "text/plain": [
       "64"
      ]
     },
     "execution_count": 13,
     "metadata": {},
     "output_type": "execute_result"
    }
   ],
   "source": [
    "(2**2) ** 3"
   ]
  },
  {
   "cell_type": "code",
   "execution_count": null,
   "id": "f6e1f17d",
   "metadata": {},
   "outputs": [],
   "source": [
    "#all other operators are left sided binding (like math)"
   ]
  }
 ],
 "metadata": {
  "kernelspec": {
   "display_name": "Python 3 (ipykernel)",
   "language": "python",
   "name": "python3"
  },
  "language_info": {
   "codemirror_mode": {
    "name": "ipython",
    "version": 3
   },
   "file_extension": ".py",
   "mimetype": "text/x-python",
   "name": "python",
   "nbconvert_exporter": "python",
   "pygments_lexer": "ipython3",
   "version": "3.9.13"
  }
 },
 "nbformat": 4,
 "nbformat_minor": 5
}
