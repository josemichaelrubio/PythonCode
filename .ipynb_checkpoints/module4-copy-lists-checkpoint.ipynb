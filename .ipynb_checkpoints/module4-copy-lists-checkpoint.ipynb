{
 "cells": [
  {
   "cell_type": "code",
   "execution_count": 1,
   "id": "c3f00e3e",
   "metadata": {},
   "outputs": [
    {
     "name": "stdout",
     "output_type": "stream",
     "text": [
      "Rubio\n",
      "Michael\n"
     ]
    }
   ],
   "source": [
    "#here variables are indepedent from each other in memory\n",
    "name_og= 'Jose'\n",
    "name_new= 'Michael'\n",
    "name_og = 'Rubio'\n",
    "print(name_og)\n",
    "print(name_new)"
   ]
  },
  {
   "cell_type": "code",
   "execution_count": 2,
   "id": "54ab2bfe",
   "metadata": {},
   "outputs": [
    {
     "name": "stdout",
     "output_type": "stream",
     "text": [
      "[4, 2, 3]\n",
      "[4, 2, 3]\n"
     ]
    }
   ],
   "source": [
    "# however, lists are not indepdent from each other in memory\n",
    "# if we change the values of one list that was copied from another,\n",
    "# Then we change both because the the name of lists points\n",
    "# to the memory location\n",
    "# Ak, referencing\n",
    "list_og =[1,2,3]\n",
    "list_new= list_og\n",
    "list_og[0]= 4\n",
    "print(list_og)\n",
    "print(list_new)"
   ]
  },
  {
   "cell_type": "code",
   "execution_count": 3,
   "id": "d7aa24ee",
   "metadata": {},
   "outputs": [
    {
     "name": "stdout",
     "output_type": "stream",
     "text": [
      "[4, 2, 3]\n",
      "[1, 2, 3]\n"
     ]
    }
   ],
   "source": [
    "# To copy a list in Python, you 'slice' it\n",
    "list_og =[1,2,3]\n",
    "list_new= list_og[:] # : slicing\n",
    "list_og[0]= 4\n",
    "print(list_og)\n",
    "print(list_new)"
   ]
  },
  {
   "cell_type": "code",
   "execution_count": 4,
   "id": "21ace8b9",
   "metadata": {},
   "outputs": [
    {
     "name": "stdout",
     "output_type": "stream",
     "text": [
      "[4, 2, 3]\n",
      "[1, 2]\n"
     ]
    }
   ],
   "source": [
    "# To copy until the first element of a lis in Python, you 'slice' it\n",
    "list_og =[1,2,3]\n",
    "list_new= list_og[:2] # : slicing until 2\n",
    "list_og[0]= 4\n",
    "print(list_og)\n",
    "print(list_new)"
   ]
  },
  {
   "cell_type": "code",
   "execution_count": null,
   "id": "b106a711",
   "metadata": {},
   "outputs": [],
   "source": []
  }
 ],
 "metadata": {
  "kernelspec": {
   "display_name": "Python 3 (ipykernel)",
   "language": "python",
   "name": "python3"
  },
  "language_info": {
   "codemirror_mode": {
    "name": "ipython",
    "version": 3
   },
   "file_extension": ".py",
   "mimetype": "text/x-python",
   "name": "python",
   "nbconvert_exporter": "python",
   "pygments_lexer": "ipython3",
   "version": "3.9.13"
  }
 },
 "nbformat": 4,
 "nbformat_minor": 5
}
