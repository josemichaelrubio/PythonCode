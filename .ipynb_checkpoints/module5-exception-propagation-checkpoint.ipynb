{
 "cells": [
  {
   "cell_type": "code",
   "execution_count": 1,
   "id": "35f4e2dc",
   "metadata": {},
   "outputs": [],
   "source": [
    "# Exception handling when multiple funtions are calling each other\n",
    "# saves time\n",
    "# If a function raises an exception but doesn't have a try except block,\n",
    "#- then the exception is propagated to the function that called it\n",
    "#- If that function doesnt have a try except block too\n",
    "#- the exception will continue to get propated until there is one or code excecution stops"
   ]
  },
  {
   "cell_type": "code",
   "execution_count": null,
   "id": "82c9461b",
   "metadata": {},
   "outputs": [],
   "source": [
    "def get_day(user_info):\n",
    "  day = int(input('What is the day of your bday? '))\n",
    "  user_info.append(day)\n",
    "\n",
    "def get_month(user_info):\n",
    "  month = int(input('What is the month (1-12) of your bday? '))\n",
    "  user_info.append(month)\n",
    "\n",
    "def get_year(user_info):\n",
    "  year = int(input('What is the year of your bday? '))\n",
    "  user_info.append(year)\n",
    "\n",
    "def get_user_bday(user_info):\n",
    "    try: # single try block to handle all functions\n",
    "      get_day(user_info)\n",
    "      get_month(user_info)\n",
    "      get_year(user_info)\n",
    "      print('So your bday is', user_info)\n",
    "    except ValueError:\n",
    "      print('You entered incorrect data, bye!')\n",
    "\n",
    "print('Hi, I will collect some info about your bday!')\n",
    "user_info = []\n",
    "get_user_bday(user_info)\n"
   ]
  }
 ],
 "metadata": {
  "kernelspec": {
   "display_name": "Python 3 (ipykernel)",
   "language": "python",
   "name": "python3"
  },
  "language_info": {
   "codemirror_mode": {
    "name": "ipython",
    "version": 3
   },
   "file_extension": ".py",
   "mimetype": "text/x-python",
   "name": "python",
   "nbconvert_exporter": "python",
   "pygments_lexer": "ipython3",
   "version": "3.9.13"
  }
 },
 "nbformat": 4,
 "nbformat_minor": 5
}
