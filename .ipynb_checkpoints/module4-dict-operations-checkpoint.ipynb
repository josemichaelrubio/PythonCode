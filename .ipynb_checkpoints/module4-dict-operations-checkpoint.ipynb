{
 "cells": [
  {
   "cell_type": "code",
   "execution_count": 1,
   "id": "884e503b",
   "metadata": {},
   "outputs": [],
   "source": [
    "# dictionaries are mutabled\n",
    "grades = {}"
   ]
  },
  {
   "cell_type": "code",
   "execution_count": 2,
   "id": "703153c5",
   "metadata": {},
   "outputs": [],
   "source": [
    "# adding new elements, use []\n",
    "grades['John'] = 'A'"
   ]
  },
  {
   "cell_type": "code",
   "execution_count": 3,
   "id": "0a8d4faf",
   "metadata": {},
   "outputs": [],
   "source": [
    "grades['Able'] = 'B'"
   ]
  },
  {
   "cell_type": "code",
   "execution_count": 4,
   "id": "f429ea5a",
   "metadata": {},
   "outputs": [
    {
     "name": "stdout",
     "output_type": "stream",
     "text": [
      "{'John': 'A', 'Able': 'B'}\n"
     ]
    }
   ],
   "source": [
    "print(grades)"
   ]
  },
  {
   "cell_type": "code",
   "execution_count": 7,
   "id": "01a5dafe",
   "metadata": {},
   "outputs": [
    {
     "name": "stdout",
     "output_type": "stream",
     "text": [
      "{'John': 'A', 'Able': 'A'}\n"
     ]
    }
   ],
   "source": [
    "# updating a value of a key\n",
    "grades['Able'] = 'A'\n",
    "print(grades)"
   ]
  },
  {
   "cell_type": "code",
   "execution_count": 9,
   "id": "222d97a1",
   "metadata": {},
   "outputs": [
    {
     "name": "stdout",
     "output_type": "stream",
     "text": [
      "{'John': '+A', 'Able': 'A'}\n"
     ]
    }
   ],
   "source": [
    "# Update Method\n",
    "grades.update({'John': '+A'})\n",
    "print(grades)\n",
    "# This is the same as using [] to update a value, this had more sythax tho"
   ]
  },
  {
   "cell_type": "code",
   "execution_count": 10,
   "id": "1c7de6ca",
   "metadata": {},
   "outputs": [
    {
     "data": {
      "text/plain": [
       "2"
      ]
     },
     "execution_count": 10,
     "metadata": {},
     "output_type": "execute_result"
    }
   ],
   "source": [
    "# Len Funtion\n",
    "len(grades)"
   ]
  },
  {
   "cell_type": "code",
   "execution_count": 13,
   "id": "265d6798",
   "metadata": {},
   "outputs": [
    {
     "name": "stdout",
     "output_type": "stream",
     "text": [
      "John got: +A\n"
     ]
    }
   ],
   "source": [
    "# in Operator\n",
    "if 'John' in grades:\n",
    "    print('John got:', grades['John'])\n",
    "# To check if a key is in a dict"
   ]
  },
  {
   "cell_type": "code",
   "execution_count": 17,
   "id": "63cb0b40",
   "metadata": {},
   "outputs": [
    {
     "name": "stdout",
     "output_type": "stream",
     "text": [
      "{'Able': 'A'}\n"
     ]
    }
   ],
   "source": [
    "# del operator\n",
    "del grades['John']\n",
    "print(grades)\n",
    "# deletes key and value"
   ]
  },
  {
   "cell_type": "code",
   "execution_count": 18,
   "id": "3fe37466",
   "metadata": {},
   "outputs": [],
   "source": [
    "# After Python 3.6, dicts have become ordered collections by default (prior, Python stored the order any way regardless of the keys-values were added)"
   ]
  },
  {
   "cell_type": "code",
   "execution_count": 19,
   "id": "eb2d2c99",
   "metadata": {},
   "outputs": [],
   "source": [
    "# Iterating a dict"
   ]
  },
  {
   "cell_type": "code",
   "execution_count": 20,
   "id": "d54868cc",
   "metadata": {},
   "outputs": [],
   "source": [
    "#For Loop"
   ]
  },
  {
   "cell_type": "code",
   "execution_count": 23,
   "id": "31bf4ce3",
   "metadata": {},
   "outputs": [],
   "source": [
    "grades['John'] = 'A'"
   ]
  },
  {
   "cell_type": "code",
   "execution_count": 24,
   "id": "60c6c26d",
   "metadata": {},
   "outputs": [
    {
     "name": "stdout",
     "output_type": "stream",
     "text": [
      "Able\n",
      "John\n"
     ]
    }
   ],
   "source": [
    "for el in grades:\n",
    "    print(el)"
   ]
  },
  {
   "cell_type": "code",
   "execution_count": 25,
   "id": "b4da82ad",
   "metadata": {},
   "outputs": [
    {
     "name": "stdout",
     "output_type": "stream",
     "text": [
      "Able\n",
      "John\n"
     ]
    }
   ],
   "source": [
    "# # Keys method\n",
    "for el in grades.keys():\n",
    "    print(el)\n",
    "# get keys"
   ]
  },
  {
   "cell_type": "code",
   "execution_count": 27,
   "id": "d0bdeae4",
   "metadata": {},
   "outputs": [
    {
     "name": "stdout",
     "output_type": "stream",
     "text": [
      "A\n",
      "A\n"
     ]
    }
   ],
   "source": [
    "## Values Method\n",
    "for values in grades.values():\n",
    "    print(values)\n",
    "# Get Value"
   ]
  },
  {
   "cell_type": "code",
   "execution_count": 29,
   "id": "bb5c12ed",
   "metadata": {},
   "outputs": [
    {
     "name": "stdout",
     "output_type": "stream",
     "text": [
      "Able got A\n",
      "John got A\n"
     ]
    }
   ],
   "source": [
    "## Items method\n",
    "for person, grade in grades.items():\n",
    "    print(person, 'got', grade)\n",
    "# Get Key and value"
   ]
  },
  {
   "cell_type": "code",
   "execution_count": null,
   "id": "9959bb4a",
   "metadata": {},
   "outputs": [],
   "source": []
  }
 ],
 "metadata": {
  "kernelspec": {
   "display_name": "Python 3 (ipykernel)",
   "language": "python",
   "name": "python3"
  },
  "language_info": {
   "codemirror_mode": {
    "name": "ipython",
    "version": 3
   },
   "file_extension": ".py",
   "mimetype": "text/x-python",
   "name": "python",
   "nbconvert_exporter": "python",
   "pygments_lexer": "ipython3",
   "version": "3.9.13"
  }
 },
 "nbformat": 4,
 "nbformat_minor": 5
}
