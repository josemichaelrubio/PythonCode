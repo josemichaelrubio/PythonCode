{
 "cells": [
  {
   "cell_type": "code",
   "execution_count": 1,
   "id": "afe9b404",
   "metadata": {},
   "outputs": [
    {
     "name": "stdout",
     "output_type": "stream",
     "text": [
      "['One', 'Two', 'Three', 1, 2, 3]\n"
     ]
    }
   ],
   "source": [
    "# Like how we can use the + multiple to join strings\n",
    "# We can do that with lists\n",
    "list_numbers = ['One', 'Two', 'Three']\n",
    "list123 = [1,2,3]\n",
    "listAll = list_numbers + list123\n",
    "print(listAll)"
   ]
  },
  {
   "cell_type": "code",
   "execution_count": 4,
   "id": "1d45fb8c",
   "metadata": {},
   "outputs": [
    {
     "name": "stdout",
     "output_type": "stream",
     "text": [
      "[1, 2, 3, 1, 2, 3, 1, 2, 3, 1, 2, 3, 1, 2, 3, 1, 2, 3, 1, 2, 3, 1, 2, 3, 1, 2, 3, 1, 2, 3]\n"
     ]
    }
   ],
   "source": [
    "# Same with *\n",
    "# Elements are repeated\n",
    "list123 = [1,2,3]\n",
    "listAll = list123 * 10\n",
    "print(listAll)"
   ]
  },
  {
   "cell_type": "code",
   "execution_count": null,
   "id": "d995a958",
   "metadata": {},
   "outputs": [],
   "source": []
  }
 ],
 "metadata": {
  "kernelspec": {
   "display_name": "Python 3 (ipykernel)",
   "language": "python",
   "name": "python3"
  },
  "language_info": {
   "codemirror_mode": {
    "name": "ipython",
    "version": 3
   },
   "file_extension": ".py",
   "mimetype": "text/x-python",
   "name": "python",
   "nbconvert_exporter": "python",
   "pygments_lexer": "ipython3",
   "version": "3.9.13"
  }
 },
 "nbformat": 4,
 "nbformat_minor": 5
}
