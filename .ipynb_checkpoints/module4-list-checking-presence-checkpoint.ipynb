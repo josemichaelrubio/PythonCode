{
 "cells": [
  {
   "cell_type": "code",
   "execution_count": 5,
   "id": "78d1f22e",
   "metadata": {},
   "outputs": [
    {
     "name": "stdout",
     "output_type": "stream",
     "text": [
      "Type A, B, or CA\n",
      "you typed A, B, or C\n"
     ]
    }
   ],
   "source": [
    "aList = ['A','B', 'C']\n",
    "name = input('Type A, B, or C')\n",
    "if name in aList:\n",
    "    print('you typed A, B, or C')\n",
    "else:\n",
    "    print('You did not type A, C, or C')"
   ]
  },
  {
   "cell_type": "code",
   "execution_count": 7,
   "id": "34eb2914",
   "metadata": {},
   "outputs": [
    {
     "name": "stdout",
     "output_type": "stream",
     "text": [
      "Type A, B, or CA\n",
      "You typed A, B, or C\n"
     ]
    }
   ],
   "source": [
    "aList = ['A','B', 'C']\n",
    "name = input('Type A, B, or C')\n",
    "if name not in aList:\n",
    "    print('You did not type A, C, or C')\n",
    "else:\n",
    "    print('You typed A, B, or C')"
   ]
  },
  {
   "cell_type": "code",
   "execution_count": null,
   "id": "2d0c222b",
   "metadata": {},
   "outputs": [],
   "source": []
  }
 ],
 "metadata": {
  "kernelspec": {
   "display_name": "Python 3 (ipykernel)",
   "language": "python",
   "name": "python3"
  },
  "language_info": {
   "codemirror_mode": {
    "name": "ipython",
    "version": 3
   },
   "file_extension": ".py",
   "mimetype": "text/x-python",
   "name": "python",
   "nbconvert_exporter": "python",
   "pygments_lexer": "ipython3",
   "version": "3.9.13"
  }
 },
 "nbformat": 4,
 "nbformat_minor": 5
}
