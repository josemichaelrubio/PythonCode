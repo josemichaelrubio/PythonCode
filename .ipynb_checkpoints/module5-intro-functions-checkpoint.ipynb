{
 "cells": [
  {
   "cell_type": "code",
   "execution_count": 1,
   "id": "9e83fe82",
   "metadata": {},
   "outputs": [],
   "source": [
    "#functions are seperate fagments of code\n",
    "# Functions help organize code\n",
    "# write once, reuse everywhere"
   ]
  },
  {
   "cell_type": "code",
   "execution_count": 4,
   "id": "70d96131",
   "metadata": {},
   "outputs": [
    {
     "name": "stdout",
     "output_type": "stream",
     "text": [
      "Help, my dear!\n",
      "Help, my dear!\n"
     ]
    }
   ],
   "source": [
    "#def = define. this declares a function\n",
    "def greet():\n",
    "    print('Help, my dear!')\n",
    "greet()\n",
    "greet()"
   ]
  },
  {
   "cell_type": "code",
   "execution_count": null,
   "id": "e2bcef92",
   "metadata": {},
   "outputs": [],
   "source": [
    "# You can invoke a function before you define it\n",
    "# Thus, thus, keep all functions up top"
   ]
  }
 ],
 "metadata": {
  "kernelspec": {
   "display_name": "Python 3 (ipykernel)",
   "language": "python",
   "name": "python3"
  },
  "language_info": {
   "codemirror_mode": {
    "name": "ipython",
    "version": 3
   },
   "file_extension": ".py",
   "mimetype": "text/x-python",
   "name": "python",
   "nbconvert_exporter": "python",
   "pygments_lexer": "ipython3",
   "version": "3.9.13"
  }
 },
 "nbformat": 4,
 "nbformat_minor": 5
}
