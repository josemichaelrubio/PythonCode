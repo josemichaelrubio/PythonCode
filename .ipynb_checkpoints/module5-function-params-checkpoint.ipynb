{
 "cells": [
  {
   "cell_type": "code",
   "execution_count": 1,
   "id": "93022e2e",
   "metadata": {},
   "outputs": [],
   "source": [
    "# Params = values we pass to functions\n",
    "#can only be used in the function"
   ]
  },
  {
   "cell_type": "code",
   "execution_count": 5,
   "id": "b025e52f",
   "metadata": {},
   "outputs": [
    {
     "name": "stdout",
     "output_type": "stream",
     "text": [
      "3.4\n"
     ]
    }
   ],
   "source": [
    "\n",
    "\n",
    "\n",
    "def get_average(input_numbers): #(parameter)\n",
    "    sum = 0.0\n",
    "    for number in input_numbers:\n",
    "        sum += number\n",
    "    average = sum / len(input_numbers)\n",
    "    print(average)\n",
    "\n",
    "get_average([5,3,2,3,4]) # (arguement)"
   ]
  },
  {
   "cell_type": "code",
   "execution_count": 6,
   "id": "9e74c775",
   "metadata": {},
   "outputs": [],
   "source": [
    "#when you invoke a function, you must provide all of it arguements\n",
    "# You must also pass the correct type "
   ]
  },
  {
   "cell_type": "code",
   "execution_count": 10,
   "id": "39000869",
   "metadata": {},
   "outputs": [
    {
     "name": "stdout",
     "output_type": "stream",
     "text": [
      "Number of a is 1\n"
     ]
    }
   ],
   "source": [
    "def print_letter_count(text, letter):\n",
    "    counter = 0\n",
    "    for char in text:\n",
    "        if char == letter:\n",
    "            counter += 1\n",
    "    print('Number of', letter,'is', counter)\n",
    "print_letter_count('abcsd', 'a')\n",
    "# Positional arguements: the order of arguement is important, "
   ]
  },
  {
   "cell_type": "code",
   "execution_count": 11,
   "id": "ad7748f0",
   "metadata": {},
   "outputs": [
    {
     "name": "stdout",
     "output_type": "stream",
     "text": [
      "Number of a is 2\n"
     ]
    }
   ],
   "source": [
    "# Named arguemetns = keyword arguements\n",
    "print_letter_count(letter = 'a', text = 'abvcsa')"
   ]
  },
  {
   "cell_type": "code",
   "execution_count": null,
   "id": "ff706d5d",
   "metadata": {},
   "outputs": [],
   "source": []
  }
 ],
 "metadata": {
  "kernelspec": {
   "display_name": "Python 3 (ipykernel)",
   "language": "python",
   "name": "python3"
  },
  "language_info": {
   "codemirror_mode": {
    "name": "ipython",
    "version": 3
   },
   "file_extension": ".py",
   "mimetype": "text/x-python",
   "name": "python",
   "nbconvert_exporter": "python",
   "pygments_lexer": "ipython3",
   "version": "3.9.13"
  }
 },
 "nbformat": 4,
 "nbformat_minor": 5
}
