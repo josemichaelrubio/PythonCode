{
 "cells": [
  {
   "cell_type": "code",
   "execution_count": 1,
   "id": "c9b674cc",
   "metadata": {},
   "outputs": [],
   "source": [
    "# pass\n",
    "# loop requires at least one instruction inside the body\n",
    "#thus, pass is used to keep a loop empty and not throw errors\n",
    "# same applies to if, elif, else. Use Pass if you want to leave it empty\n",
    "for i in range (11):\n",
    "    pass"
   ]
  },
  {
   "cell_type": "code",
   "execution_count": 3,
   "id": "cc1727a6",
   "metadata": {},
   "outputs": [
    {
     "name": "stdout",
     "output_type": "stream",
     "text": [
      "1 x 1 = 1\n",
      "1 x 2 = 2\n",
      "1 x 3 = 3\n",
      "1 x 4 = 4\n",
      "1 x 5 = 5\n",
      "2 x 1 = 2\n",
      "2 x 2 = 4\n",
      "2 x 3 = 6\n",
      "2 x 4 = 8\n",
      "2 x 5 = 10\n",
      "3 x 1 = 3\n",
      "3 x 2 = 6\n",
      "3 x 3 = 9\n",
      "3 x 4 = 12\n",
      "3 x 5 = 15\n",
      "4 x 1 = 4\n",
      "4 x 2 = 8\n",
      "4 x 3 = 12\n",
      "4 x 4 = 16\n",
      "4 x 5 = 20\n",
      "5 x 1 = 5\n",
      "5 x 2 = 10\n",
      "5 x 3 = 15\n",
      "5 x 4 = 20\n",
      "5 x 5 = 25\n"
     ]
    }
   ],
   "source": [
    "#nested Loops\n",
    "for a in range(1,6):\n",
    "    for b in range(1,6):\n",
    "        print (a, 'x', b, '=', a *b)\n",
    "        "
   ]
  },
  {
   "cell_type": "code",
   "execution_count": 4,
   "id": "ea628964",
   "metadata": {},
   "outputs": [
    {
     "name": "stdout",
     "output_type": "stream",
     "text": [
      "else 5\n"
     ]
    }
   ],
   "source": [
    "#loops with else statements\n",
    "# rarely used\n",
    "i = 5\n",
    "while i <5:\n",
    "    print(i)\n",
    "    i+=1\n",
    "else:\n",
    "    print('else',i)"
   ]
  },
  {
   "cell_type": "code",
   "execution_count": null,
   "id": "e9938111",
   "metadata": {},
   "outputs": [],
   "source": [
    "i = 2\n",
    "while i <5:\n",
    "    print(i)\n",
    "    i+=1\n",
    "else:\n",
    "    print('else',i)\n",
    "# the else branch of a loop is always executed once (exception: break statement)"
   ]
  }
 ],
 "metadata": {
  "kernelspec": {
   "display_name": "Python 3 (ipykernel)",
   "language": "python",
   "name": "python3"
  },
  "language_info": {
   "codemirror_mode": {
    "name": "ipython",
    "version": 3
   },
   "file_extension": ".py",
   "mimetype": "text/x-python",
   "name": "python",
   "nbconvert_exporter": "python",
   "pygments_lexer": "ipython3",
   "version": "3.9.13"
  }
 },
 "nbformat": 4,
 "nbformat_minor": 5
}
