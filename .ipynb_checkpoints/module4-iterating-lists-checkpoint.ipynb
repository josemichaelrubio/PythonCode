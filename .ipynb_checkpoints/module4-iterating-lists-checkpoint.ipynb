{
 "cells": [
  {
   "cell_type": "code",
   "execution_count": 1,
   "id": "1c0f92ad",
   "metadata": {},
   "outputs": [],
   "source": [
    "# Iterating Lists\n",
    "# Lists are sequences\n",
    "# Sequences are data structures that can store more than one value and can be browsed sequencially, like String\n",
    "\n"
   ]
  },
  {
   "cell_type": "code",
   "execution_count": 2,
   "id": "879aeb4b",
   "metadata": {},
   "outputs": [
    {
     "name": "stdout",
     "output_type": "stream",
     "text": [
      "Current city: Phoenix\n",
      "Current city: New York City\n",
      "Current city: Chicago\n",
      "Current city: Los Angeles\n",
      "Current city: Houston\n"
     ]
    }
   ],
   "source": [
    "top_cities = ['New York City', 'Los Angeles', 'Chicago', 'Houston', 'Phoenix']\n",
    "for city in top_cities:\n",
    "    print('Current city:', city)"
   ]
  },
  {
   "cell_type": "code",
   "execution_count": 7,
   "id": "894a025f",
   "metadata": {},
   "outputs": [
    {
     "name": "stdout",
     "output_type": "stream",
     "text": [
      "Current index: 0  | Current City:  New York City\n",
      "Current index: 1  | Current City:  Los Angeles\n",
      "Current index: 2  | Current City:  Chicago\n",
      "Current index: 3  | Current City:  Houston\n",
      "Current index: 4  | Current City:  Phoenix\n"
     ]
    }
   ],
   "source": [
    "# How to iternate over a list to access the element and its index\n",
    "top_cities = ['New York City', 'Los Angeles', 'Chicago', 'Houston', 'Phoenix']\n",
    "for city_index in range(len(top_cities)):\n",
    "    print('Current index:', city_index, ' | Current City: ', top_cities[city_index],)"
   ]
  },
  {
   "cell_type": "code",
   "execution_count": 10,
   "id": "78fbf8b0",
   "metadata": {},
   "outputs": [
    {
     "name": "stdout",
     "output_type": "stream",
     "text": [
      "Money spent:  55.36\n"
     ]
    }
   ],
   "source": [
    "spendings = [32.44, 11.33, 11.59]\n",
    "sum =0.0\n",
    "for i in spendings:\n",
    "    sum +=i\n",
    "print('Money spent: ', sum)"
   ]
  },
  {
   "cell_type": "code",
   "execution_count": null,
   "id": "7e02342a",
   "metadata": {},
   "outputs": [],
   "source": []
  },
  {
   "cell_type": "code",
   "execution_count": null,
   "id": "39d99e7f",
   "metadata": {},
   "outputs": [],
   "source": []
  }
 ],
 "metadata": {
  "kernelspec": {
   "display_name": "Python 3 (ipykernel)",
   "language": "python",
   "name": "python3"
  },
  "language_info": {
   "codemirror_mode": {
    "name": "ipython",
    "version": 3
   },
   "file_extension": ".py",
   "mimetype": "text/x-python",
   "name": "python",
   "nbconvert_exporter": "python",
   "pygments_lexer": "ipython3",
   "version": "3.9.13"
  }
 },
 "nbformat": 4,
 "nbformat_minor": 5
}
