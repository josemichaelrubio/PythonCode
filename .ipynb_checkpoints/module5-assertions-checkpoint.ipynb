{
 "cells": [
  {
   "cell_type": "code",
   "execution_count": 4,
   "id": "477c959a",
   "metadata": {},
   "outputs": [],
   "source": [
    "# Raising exceptions ourselves, one is assertions\n",
    "# Asserstions: assumptions in our program that should always be true\n",
    "## for debugging/testing code\n",
    "## for doucmenting code\n",
    "\n",
    "## Do Not validate user input\n",
    "### Because it is possible to turn off assertions\n",
    "## Do Nothandle AssertionErrors with try except\n",
    "### Purpose is to handle bugs while coding"
   ]
  },
  {
   "cell_type": "code",
   "execution_count": 3,
   "id": "0aaf80b9",
   "metadata": {},
   "outputs": [
    {
     "ename": "AssertionError",
     "evalue": "got 0 as a number",
     "output_type": "error",
     "traceback": [
      "\u001b[0;31m---------------------------------------------------------------------------\u001b[0m",
      "\u001b[0;31mAssertionError\u001b[0m                            Traceback (most recent call last)",
      "\u001b[0;32m/var/folders/99/y6wx3_cs3t7fymkm7ql3pfd00000gn/T/ipykernel_6762/2367909621.py\u001b[0m in \u001b[0;36m<module>\u001b[0;34m\u001b[0m\n\u001b[1;32m      5\u001b[0m \u001b[0;31m# If the assert condition(s) is true, then python moves to the next line\u001b[0m\u001b[0;34m\u001b[0m\u001b[0;34m\u001b[0m\u001b[0m\n\u001b[1;32m      6\u001b[0m \u001b[0;31m# If not true, python evokes an error comment that we provide after the ,\u001b[0m\u001b[0;34m\u001b[0m\u001b[0;34m\u001b[0m\u001b[0m\n\u001b[0;32m----> 7\u001b[0;31m \u001b[0mcalc_inverse\u001b[0m\u001b[0;34m(\u001b[0m\u001b[0;36m0\u001b[0m\u001b[0;34m)\u001b[0m\u001b[0;34m\u001b[0m\u001b[0;34m\u001b[0m\u001b[0m\n\u001b[0m",
      "\u001b[0;32m/var/folders/99/y6wx3_cs3t7fymkm7ql3pfd00000gn/T/ipykernel_6762/2367909621.py\u001b[0m in \u001b[0;36mcalc_inverse\u001b[0;34m(n)\u001b[0m\n\u001b[1;32m      1\u001b[0m \u001b[0;31m# assert keyword\u001b[0m\u001b[0;34m\u001b[0m\u001b[0;34m\u001b[0m\u001b[0m\n\u001b[1;32m      2\u001b[0m \u001b[0;32mdef\u001b[0m \u001b[0mcalc_inverse\u001b[0m\u001b[0;34m(\u001b[0m\u001b[0mn\u001b[0m\u001b[0;34m)\u001b[0m\u001b[0;34m:\u001b[0m\u001b[0;34m\u001b[0m\u001b[0;34m\u001b[0m\u001b[0m\n\u001b[0;32m----> 3\u001b[0;31m     \u001b[0;32massert\u001b[0m \u001b[0;34m(\u001b[0m\u001b[0mn\u001b[0m \u001b[0;34m!=\u001b[0m\u001b[0;36m0\u001b[0m\u001b[0;34m)\u001b[0m\u001b[0;34m,\u001b[0m \u001b[0;34m'got 0 as a number'\u001b[0m\u001b[0;34m\u001b[0m\u001b[0;34m\u001b[0m\u001b[0m\n\u001b[0m\u001b[1;32m      4\u001b[0m     \u001b[0;32mreturn\u001b[0m \u001b[0;36m1\u001b[0m\u001b[0;34m/\u001b[0m\u001b[0mn\u001b[0m\u001b[0;34m\u001b[0m\u001b[0;34m\u001b[0m\u001b[0m\n\u001b[1;32m      5\u001b[0m \u001b[0;31m# If the assert condition(s) is true, then python moves to the next line\u001b[0m\u001b[0;34m\u001b[0m\u001b[0;34m\u001b[0m\u001b[0m\n",
      "\u001b[0;31mAssertionError\u001b[0m: got 0 as a number"
     ]
    }
   ],
   "source": [
    "# assert keyword\n",
    "def calc_inverse(n):\n",
    "    assert (n !=0), 'got 0 as a number'\n",
    "    return 1/n\n",
    "# If the assert condition(s) is true, then python moves to the next line\n",
    "# If not true, python evokes an error comment that we provide after the ,\n",
    "calc_inverse(0)\n",
    "#AssertError"
   ]
  },
  {
   "cell_type": "code",
   "execution_count": null,
   "id": "a5448299",
   "metadata": {},
   "outputs": [],
   "source": []
  }
 ],
 "metadata": {
  "kernelspec": {
   "display_name": "Python 3 (ipykernel)",
   "language": "python",
   "name": "python3"
  },
  "language_info": {
   "codemirror_mode": {
    "name": "ipython",
    "version": 3
   },
   "file_extension": ".py",
   "mimetype": "text/x-python",
   "name": "python",
   "nbconvert_exporter": "python",
   "pygments_lexer": "ipython3",
   "version": "3.9.13"
  }
 },
 "nbformat": 4,
 "nbformat_minor": 5
}
