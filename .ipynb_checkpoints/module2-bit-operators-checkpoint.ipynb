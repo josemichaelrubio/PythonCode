{
 "cells": [
  {
   "cell_type": "code",
   "execution_count": 1,
   "id": "da0dea12",
   "metadata": {},
   "outputs": [],
   "source": [
    "# Bit operations in Python are possible but almost never used\n",
    "# the following are operators that can manipulate bits in Python, treat them like logic\n",
    "# & | ~ ^ << >>\n",
    "# 0 and 1 can be treated as binary number when using the bit operators"
   ]
  },
  {
   "cell_type": "code",
   "execution_count": 2,
   "id": "384e6b50",
   "metadata": {},
   "outputs": [
    {
     "name": "stdout",
     "output_type": "stream",
     "text": [
      "0\n"
     ]
    }
   ],
   "source": [
    "# & (and)\n",
    "first_bit= 1\n",
    "second_bit= 0\n",
    "# treat & like a logically &, you will only is 1 (true/ on) when both sides are 1\n",
    "print( first_bit & second_bit)"
   ]
  },
  {
   "cell_type": "code",
   "execution_count": 4,
   "id": "a3c740e1",
   "metadata": {},
   "outputs": [
    {
     "name": "stdout",
     "output_type": "stream",
     "text": [
      "1\n"
     ]
    }
   ],
   "source": [
    "# | (or)\n",
    "first_bit= 1\n",
    "second_bit= 0\n",
    "print( first_bit | second_bit)"
   ]
  },
  {
   "cell_type": "code",
   "execution_count": 5,
   "id": "0c71a79a",
   "metadata": {},
   "outputs": [
    {
     "name": "stdout",
     "output_type": "stream",
     "text": [
      "0\n"
     ]
    }
   ],
   "source": [
    "# ^ (excusive or (xor))\n",
    "first_bit= 1\n",
    "second_bit= 1\n",
    "print( first_bit ^ second_bit)\n",
    "# when both bits ether 1 and 0, we get 1\n",
    "# when both bits are the same, as in 1 and 1 and vice versa, we get 0"
   ]
  },
  {
   "cell_type": "code",
   "execution_count": 6,
   "id": "4aca1c6b",
   "metadata": {},
   "outputs": [
    {
     "name": "stdout",
     "output_type": "stream",
     "text": [
      "-2\n"
     ]
    }
   ],
   "source": [
    "# ~ (Not)\n",
    "first_bit= 1\n",
    "second_bit= 1\n",
    "print( ~1)\n",
    "# It's (-n-1)  "
   ]
  },
  {
   "cell_type": "code",
   "execution_count": 7,
   "id": "20d3b69c",
   "metadata": {},
   "outputs": [
    {
     "name": "stdout",
     "output_type": "stream",
     "text": [
      "-1\n"
     ]
    }
   ],
   "source": [
    "print(~0)"
   ]
  },
  {
   "cell_type": "code",
   "execution_count": 9,
   "id": "97c418a2",
   "metadata": {},
   "outputs": [
    {
     "name": "stdout",
     "output_type": "stream",
     "text": [
      "2\n"
     ]
    }
   ],
   "source": [
    "print(~-3)"
   ]
  },
  {
   "cell_type": "code",
   "execution_count": 10,
   "id": "2b28028f",
   "metadata": {},
   "outputs": [
    {
     "data": {
      "text/plain": [
       "24"
      ]
     },
     "execution_count": 10,
     "metadata": {},
     "output_type": "execute_result"
    }
   ],
   "source": [
    "# << (shift operators)\n",
    "12 << 1 #shift to the left by a single bit\n",
    "# 12*2**1"
   ]
  },
  {
   "cell_type": "code",
   "execution_count": 11,
   "id": "4a237807",
   "metadata": {},
   "outputs": [
    {
     "data": {
      "text/plain": [
       "48"
      ]
     },
     "execution_count": 11,
     "metadata": {},
     "output_type": "execute_result"
    }
   ],
   "source": [
    "12 << 2\n",
    "#12*2**2"
   ]
  },
  {
   "cell_type": "code",
   "execution_count": 16,
   "id": "915ed9c9",
   "metadata": {},
   "outputs": [
    {
     "data": {
      "text/plain": [
       "6"
      ]
     },
     "execution_count": 16,
     "metadata": {},
     "output_type": "execute_result"
    }
   ],
   "source": [
    "#shift to the right by a single bit\n",
    "12>>1\n",
    "#12/2**1"
   ]
  },
  {
   "cell_type": "code",
   "execution_count": 17,
   "id": "d5d4e22c",
   "metadata": {},
   "outputs": [
    {
     "data": {
      "text/plain": [
       "3"
      ]
     },
     "execution_count": 17,
     "metadata": {},
     "output_type": "execute_result"
    }
   ],
   "source": [
    "12>>2\n"
   ]
  },
  {
   "cell_type": "code",
   "execution_count": 31,
   "id": "0168e1ae",
   "metadata": {},
   "outputs": [
    {
     "data": {
      "text/plain": [
       "6"
      ]
     },
     "execution_count": 31,
     "metadata": {},
     "output_type": "execute_result"
    }
   ],
   "source": [
    "100>> 4"
   ]
  },
  {
   "cell_type": "code",
   "execution_count": 33,
   "id": "7b621379",
   "metadata": {},
   "outputs": [
    {
     "data": {
      "text/plain": [
       "6.25"
      ]
     },
     "execution_count": 33,
     "metadata": {},
     "output_type": "execute_result"
    }
   ],
   "source": [
    "100/2**4"
   ]
  },
  {
   "cell_type": "code",
   "execution_count": 27,
   "id": "c4240c31",
   "metadata": {},
   "outputs": [
    {
     "data": {
      "text/plain": [
       "3200"
      ]
     },
     "execution_count": 27,
     "metadata": {},
     "output_type": "execute_result"
    }
   ],
   "source": [
    "100<<5"
   ]
  },
  {
   "cell_type": "code",
   "execution_count": 28,
   "id": "171708d2",
   "metadata": {},
   "outputs": [
    {
     "data": {
      "text/plain": [
       "3200"
      ]
     },
     "execution_count": 28,
     "metadata": {},
     "output_type": "execute_result"
    }
   ],
   "source": [
    "100 * 2**5"
   ]
  },
  {
   "cell_type": "code",
   "execution_count": null,
   "id": "5fbdf303",
   "metadata": {},
   "outputs": [],
   "source": []
  }
 ],
 "metadata": {
  "kernelspec": {
   "display_name": "Python 3 (ipykernel)",
   "language": "python",
   "name": "python3"
  },
  "language_info": {
   "codemirror_mode": {
    "name": "ipython",
    "version": 3
   },
   "file_extension": ".py",
   "mimetype": "text/x-python",
   "name": "python",
   "nbconvert_exporter": "python",
   "pygments_lexer": "ipython3",
   "version": "3.9.13"
  }
 },
 "nbformat": 4,
 "nbformat_minor": 5
}
