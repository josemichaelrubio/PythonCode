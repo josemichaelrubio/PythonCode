{
 "cells": [
  {
   "cell_type": "code",
   "execution_count": 1,
   "id": "20031316",
   "metadata": {},
   "outputs": [],
   "source": [
    "# Generator: a function that returns lots of values one by one"
   ]
  },
  {
   "cell_type": "code",
   "execution_count": 3,
   "id": "0210d0d3",
   "metadata": {},
   "outputs": [
    {
     "name": "stdout",
     "output_type": "stream",
     "text": [
      "1\n"
     ]
    }
   ],
   "source": [
    "# Yield keyword\n",
    "def get_number():\n",
    "    for i in range(1,4):\n",
    "        yield i # replaces return, this makes it a generator\n",
    "# this stores the return value as a special object called generator\n",
    "\n",
    "generator = get_number()\n",
    "\n",
    "# next keyword- asking for the next value\n",
    "print(next(generator))"
   ]
  },
  {
   "cell_type": "code",
   "execution_count": 4,
   "id": "844f9476",
   "metadata": {},
   "outputs": [
    {
     "name": "stdout",
     "output_type": "stream",
     "text": [
      "2\n"
     ]
    }
   ],
   "source": [
    "# generator always remembers the last value that it return\n",
    "print(next(generator))"
   ]
  },
  {
   "cell_type": "code",
   "execution_count": 5,
   "id": "d961496b",
   "metadata": {},
   "outputs": [
    {
     "name": "stdout",
     "output_type": "stream",
     "text": [
      "1\n",
      "2\n",
      "3\n"
     ]
    }
   ],
   "source": [
    "# generators can be used in for loop\n",
    "for x in get_number():\n",
    "    print(x)"
   ]
  },
  {
   "cell_type": "code",
   "execution_count": 6,
   "id": "8cdfaf42",
   "metadata": {},
   "outputs": [
    {
     "name": "stdout",
     "output_type": "stream",
     "text": [
      "[1, 2, 3]\n"
     ]
    }
   ],
   "source": [
    "# Generators in lists\n",
    "numbers = list(get_number())\n",
    "print(numbers)"
   ]
  },
  {
   "cell_type": "code",
   "execution_count": null,
   "id": "2ca5181d",
   "metadata": {},
   "outputs": [],
   "source": []
  }
 ],
 "metadata": {
  "kernelspec": {
   "display_name": "Python 3 (ipykernel)",
   "language": "python",
   "name": "python3"
  },
  "language_info": {
   "codemirror_mode": {
    "name": "ipython",
    "version": 3
   },
   "file_extension": ".py",
   "mimetype": "text/x-python",
   "name": "python",
   "nbconvert_exporter": "python",
   "pygments_lexer": "ipython3",
   "version": "3.9.13"
  }
 },
 "nbformat": 4,
 "nbformat_minor": 5
}
