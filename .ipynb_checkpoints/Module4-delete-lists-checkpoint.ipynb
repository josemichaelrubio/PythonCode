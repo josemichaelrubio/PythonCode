{
 "cells": [
  {
   "cell_type": "code",
   "execution_count": 2,
   "id": "8f478788",
   "metadata": {},
   "outputs": [
    {
     "name": "stdout",
     "output_type": "stream",
     "text": [
      "['NY', 'DC']\n"
     ]
    }
   ],
   "source": [
    " #keyword del\n",
    "top_cities = ['uaaa', 'NY', 'DC']\n",
    "del top_cities [0]\n",
    "print(top_cities)"
   ]
  },
  {
   "cell_type": "code",
   "execution_count": 3,
   "id": "54dbaf0b",
   "metadata": {},
   "outputs": [],
   "source": [
    "# All values to the right of the deleted element is shifted to the left"
   ]
  },
  {
   "cell_type": "code",
   "execution_count": 4,
   "id": "e2619691",
   "metadata": {},
   "outputs": [
    {
     "name": "stdout",
     "output_type": "stream",
     "text": [
      "['NY']\n"
     ]
    }
   ],
   "source": [
    "del top_cities[1:] # how to delete all elements starting from an index: then onward\n",
    "print(top_cities)"
   ]
  },
  {
   "cell_type": "code",
   "execution_count": 5,
   "id": "1d2e5624",
   "metadata": {},
   "outputs": [
    {
     "name": "stdout",
     "output_type": "stream",
     "text": [
      "[]\n"
     ]
    }
   ],
   "source": [
    "del top_cities[:] #just a slice deletes all elements of the list\n",
    "print(top_cities)"
   ]
  },
  {
   "cell_type": "code",
   "execution_count": null,
   "id": "7e0f6a9b",
   "metadata": {},
   "outputs": [],
   "source": [
    "del top_cities # deletes the list itself, not that it's without []\n",
    "# del is not a function call, it is an instruction"
   ]
  }
 ],
 "metadata": {
  "kernelspec": {
   "display_name": "Python 3 (ipykernel)",
   "language": "python",
   "name": "python3"
  },
  "language_info": {
   "codemirror_mode": {
    "name": "ipython",
    "version": 3
   },
   "file_extension": ".py",
   "mimetype": "text/x-python",
   "name": "python",
   "nbconvert_exporter": "python",
   "pygments_lexer": "ipython3",
   "version": "3.9.13"
  }
 },
 "nbformat": 4,
 "nbformat_minor": 5
}
