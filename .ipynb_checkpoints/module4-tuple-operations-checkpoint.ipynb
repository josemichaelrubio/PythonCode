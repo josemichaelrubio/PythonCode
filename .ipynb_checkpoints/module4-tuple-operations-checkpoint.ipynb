{
 "cells": [
  {
   "cell_type": "code",
   "execution_count": 1,
   "id": "944caea2",
   "metadata": {},
   "outputs": [],
   "source": [
    "# Some tuple operations to remember"
   ]
  },
  {
   "cell_type": "code",
   "execution_count": 2,
   "id": "7cd6c20c",
   "metadata": {},
   "outputs": [
    {
     "name": "stdout",
     "output_type": "stream",
     "text": [
      "3\n"
     ]
    }
   ],
   "source": [
    "# len()\n",
    "user_data = ('John', 'American', 1964,)\n",
    "print(len(user_data))"
   ]
  },
  {
   "cell_type": "code",
   "execution_count": 3,
   "id": "3b96a501",
   "metadata": {},
   "outputs": [
    {
     "name": "stdout",
     "output_type": "stream",
     "text": [
      "This person comes from the US!\n"
     ]
    }
   ],
   "source": [
    "# we can use the in and not in operators too\n",
    "user_data = ('John', 'American', 1964,)\n",
    "if 'American' in user_data:\n",
    "    print('This person comes from the US!')"
   ]
  },
  {
   "cell_type": "code",
   "execution_count": 4,
   "id": "985a4e93",
   "metadata": {},
   "outputs": [
    {
     "name": "stdout",
     "output_type": "stream",
     "text": [
      "John\n",
      "American\n",
      "1964\n"
     ]
    }
   ],
   "source": [
    "# We can itterate with a for loop\n",
    "user_data = ('John', 'American', 1964,)\n",
    "for element in user_data:\n",
    "    print(element)"
   ]
  },
  {
   "cell_type": "code",
   "execution_count": 6,
   "id": "5ee4d264",
   "metadata": {},
   "outputs": [
    {
     "name": "stdout",
     "output_type": "stream",
     "text": [
      "('John', 'American', 1964, 'Teacher', 'Male')\n"
     ]
    }
   ],
   "source": [
    "# Tuples can be added or multiplied\n",
    "user_data = ('John', 'American', 1964,) +('Teacher','Male') #This produces a new tuple\n",
    "print(user_data)"
   ]
  },
  {
   "cell_type": "code",
   "execution_count": 7,
   "id": "13c0ec17",
   "metadata": {},
   "outputs": [
    {
     "name": "stdout",
     "output_type": "stream",
     "text": [
      "(0, 1, 0, 1, 0, 1, 0, 1, 0, 1, 0, 1, 0, 1, 0, 1, 0, 1, 0, 1)\n"
     ]
    }
   ],
   "source": [
    "numbers = (0,1) *10\n",
    "print(numbers)"
   ]
  },
  {
   "cell_type": "code",
   "execution_count": 8,
   "id": "33d60b1e",
   "metadata": {},
   "outputs": [],
   "source": [
    "# When to use a list or tuple\n",
    "# Lists: elements of the same data type, class, or phenomnum\n",
    "# Tuples: values of different data types that are somehow related\n",
    "#Tuples also perform certain Python operations quicker\n",
    "# Tuple elements can also be variables"
   ]
  },
  {
   "cell_type": "code",
   "execution_count": null,
   "id": "aaf75197",
   "metadata": {},
   "outputs": [],
   "source": []
  },
  {
   "cell_type": "code",
   "execution_count": null,
   "id": "e5b3b37b",
   "metadata": {},
   "outputs": [],
   "source": []
  }
 ],
 "metadata": {
  "kernelspec": {
   "display_name": "Python 3 (ipykernel)",
   "language": "python",
   "name": "python3"
  },
  "language_info": {
   "codemirror_mode": {
    "name": "ipython",
    "version": 3
   },
   "file_extension": ".py",
   "mimetype": "text/x-python",
   "name": "python",
   "nbconvert_exporter": "python",
   "pygments_lexer": "ipython3",
   "version": "3.9.13"
  }
 },
 "nbformat": 4,
 "nbformat_minor": 5
}
