{
 "cells": [
  {
   "cell_type": "code",
   "execution_count": 2,
   "id": "89e57062",
   "metadata": {},
   "outputs": [
    {
     "data": {
      "text/plain": [
       "6"
      ]
     },
     "execution_count": 2,
     "metadata": {},
     "output_type": "execute_result"
    }
   ],
   "source": [
    "len('hello ') #returns the length of a string, the number of characters in a string"
   ]
  },
  {
   "cell_type": "code",
   "execution_count": 3,
   "id": "6be8e6cb",
   "metadata": {},
   "outputs": [
    {
     "name": "stdout",
     "output_type": "stream",
     "text": [
      "first line\n",
      "second line\n"
     ]
    }
   ],
   "source": [
    "print('first line')\n",
    "print('second line')\n",
    "# python automaticaly prints the 2nd print() in the next line"
   ]
  },
  {
   "cell_type": "code",
   "execution_count": 6,
   "id": "1b0df8e8",
   "metadata": {},
   "outputs": [
    {
     "name": "stdout",
     "output_type": "stream",
     "text": [
      "first line.still first line\n"
     ]
    }
   ],
   "source": [
    "# Keywork arguements/ named arguements\n",
    "# keyword arguements are arguments that you can use at the end of a function invoking after all the other arguements\n",
    "# keyword arguements are optional\n",
    "print('first line', end='.')\n",
    "print( 'still first line')\n",
    "# end eliminates forming a new line"
   ]
  },
  {
   "cell_type": "code",
   "execution_count": 7,
   "id": "5e9f4967",
   "metadata": {},
   "outputs": [
    {
     "name": "stdout",
     "output_type": "stream",
     "text": [
      "Your first name is John Welcome\n"
     ]
    }
   ],
   "source": [
    "first_name = 'John'\n",
    "print('Your first name is', first_name, 'Welcome')\n",
    "# python automatically adds a space between strings in print()"
   ]
  },
  {
   "cell_type": "code",
   "execution_count": 8,
   "id": "6b170350",
   "metadata": {},
   "outputs": [
    {
     "name": "stdout",
     "output_type": "stream",
     "text": [
      "Your first name is-John-Welcome\n"
     ]
    }
   ],
   "source": [
    "first_name = 'John'\n",
    "print('Your first name is', first_name, 'Welcome', sep = '-')\n",
    "# sep replaces the space with whatever you typed in there"
   ]
  },
  {
   "cell_type": "code",
   "execution_count": 10,
   "id": "01702c30",
   "metadata": {},
   "outputs": [
    {
     "name": "stdout",
     "output_type": "stream",
     "text": [
      "Your first name is-John-Welcome."
     ]
    }
   ],
   "source": [
    "#multiple arguements can be used at the sametime\n",
    "first_name = 'John'\n",
    "print('Your first name is', first_name, 'Welcome', sep = '-', end ='.')\n"
   ]
  },
  {
   "cell_type": "code",
   "execution_count": null,
   "id": "1d36399f",
   "metadata": {},
   "outputs": [],
   "source": []
  }
 ],
 "metadata": {
  "kernelspec": {
   "display_name": "Python 3 (ipykernel)",
   "language": "python",
   "name": "python3"
  },
  "language_info": {
   "codemirror_mode": {
    "name": "ipython",
    "version": 3
   },
   "file_extension": ".py",
   "mimetype": "text/x-python",
   "name": "python",
   "nbconvert_exporter": "python",
   "pygments_lexer": "ipython3",
   "version": "3.9.13"
  }
 },
 "nbformat": 4,
 "nbformat_minor": 5
}
