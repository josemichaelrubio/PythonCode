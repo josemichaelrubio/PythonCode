{
 "cells": [
  {
   "cell_type": "code",
   "execution_count": 4,
   "id": "d8d9fec7",
   "metadata": {},
   "outputs": [
    {
     "ename": "SyntaxError",
     "evalue": "invalid syntax (197824594.py, line 8)",
     "output_type": "error",
     "traceback": [
      "\u001b[0;36m  File \u001b[0;32m\"/var/folders/99/y6wx3_cs3t7fymkm7ql3pfd00000gn/T/ipykernel_8280/197824594.py\"\u001b[0;36m, line \u001b[0;32m8\u001b[0m\n\u001b[0;31m    elif: user_age==30:\u001b[0m\n\u001b[0m        ^\u001b[0m\n\u001b[0;31mSyntaxError\u001b[0m\u001b[0;31m:\u001b[0m invalid syntax\n"
     ]
    }
   ],
   "source": [
    "user_age= int(input('What is your age? '))\n",
    "# if keyword\n",
    "if user_age> 30:\n",
    "    #instructions are then indentation, these are called a block\n",
    "    print('You are over 30 years old') #indentation is very imporant, 4 spaces\n",
    "    print('Sorry, you do not qualify')\n",
    "#elif keyword, can have more than one elif or none at all, optional\n",
    "elif: user_age==30:\n",
    "    print('You are exactly 30 years old')\n",
    "    print('you\\'ll need to meet additional conditions to qualify')\n",
    "#else keyword, can only have one else, optional\n",
    "else: \n",
    "    print('You\\'re 30 years old or younger')\n",
    "    print('Congrats, you qualify')"
   ]
  },
  {
   "cell_type": "code",
   "execution_count": null,
   "id": "9d90c2e0",
   "metadata": {},
   "outputs": [],
   "source": [
    "# = is used to assign value in variables\n",
    "# == check if they are the same\n"
   ]
  }
 ],
 "metadata": {
  "kernelspec": {
   "display_name": "Python 3 (ipykernel)",
   "language": "python",
   "name": "python3"
  },
  "language_info": {
   "codemirror_mode": {
    "name": "ipython",
    "version": 3
   },
   "file_extension": ".py",
   "mimetype": "text/x-python",
   "name": "python",
   "nbconvert_exporter": "python",
   "pygments_lexer": "ipython3",
   "version": "3.9.13"
  }
 },
 "nbformat": 4,
 "nbformat_minor": 5
}
