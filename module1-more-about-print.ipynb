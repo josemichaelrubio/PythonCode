{
 "cells": [
  {
   "cell_type": "code",
   "execution_count": 2,
   "id": "7b6fc857",
   "metadata": {},
   "outputs": [
    {
     "name": "stdout",
     "output_type": "stream",
     "text": [
      "I'm here\n",
      "always here and never there\n"
     ]
    }
   ],
   "source": [
    "print('I\\'m here')\n",
    "print( 'always here and never there')"
   ]
  },
  {
   "cell_type": "code",
   "execution_count": 3,
   "id": "ea76bcfb",
   "metadata": {},
   "outputs": [
    {
     "name": "stdout",
     "output_type": "stream",
     "text": [
      "I'm here and never there\n"
     ]
    }
   ],
   "source": [
    "print('I\\'m here', 'and never there')"
   ]
  },
  {
   "cell_type": "code",
   "execution_count": 4,
   "id": "7a83fb44",
   "metadata": {},
   "outputs": [
    {
     "name": "stdout",
     "output_type": "stream",
     "text": [
      "I'm \n",
      "here\n"
     ]
    }
   ],
   "source": [
    "print('I\\'m \\nhere')"
   ]
  },
  {
   "cell_type": "code",
   "execution_count": 5,
   "id": "d5543e45",
   "metadata": {},
   "outputs": [
    {
     "name": "stdout",
     "output_type": "stream",
     "text": [
      "\n"
     ]
    }
   ],
   "source": [
    "print()"
   ]
  },
  {
   "cell_type": "code",
   "execution_count": null,
   "id": "3ae4a788",
   "metadata": {},
   "outputs": [],
   "source": []
  }
 ],
 "metadata": {
  "kernelspec": {
   "display_name": "Python 3 (ipykernel)",
   "language": "python",
   "name": "python3"
  },
  "language_info": {
   "codemirror_mode": {
    "name": "ipython",
    "version": 3
   },
   "file_extension": ".py",
   "mimetype": "text/x-python",
   "name": "python",
   "nbconvert_exporter": "python",
   "pygments_lexer": "ipython3",
   "version": "3.9.13"
  }
 },
 "nbformat": 4,
 "nbformat_minor": 5
}
