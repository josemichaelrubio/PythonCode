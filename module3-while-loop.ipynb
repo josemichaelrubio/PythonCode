{
 "cells": [
  {
   "cell_type": "code",
   "execution_count": 1,
   "id": "46a31326",
   "metadata": {},
   "outputs": [],
   "source": [
    "# loops are used to repeat an instruction or many instructions more than one\n",
    "# two types: while and for"
   ]
  },
  {
   "cell_type": "code",
   "execution_count": null,
   "id": "669a789b",
   "metadata": {},
   "outputs": [],
   "source": [
    "#while\n",
    "counter = 1 #normally used integers\n",
    "while counter < 11: #excutes if true\n",
    "    print(counter)\n",
    "    counter += 1 #incrementation: increasing the value by 1\n",
    "    if counter >= 11:\n",
    "        print('Finsihed.')\n",
    "print('Outside of loop.')"
   ]
  },
  {
   "cell_type": "code",
   "execution_count": null,
   "id": "485dbb5f",
   "metadata": {},
   "outputs": [],
   "source": [
    "# An infinite loop never ends (its condition is always true)\n"
   ]
  },
  {
   "cell_type": "code",
   "execution_count": 2,
   "id": "25630a1d",
   "metadata": {},
   "outputs": [
    {
     "name": "stdout",
     "output_type": "stream",
     "text": [
      "\n",
      "------\n",
      "Secret number game\n",
      "------\n",
      "\n",
      "try to guess the secret number from 0 to 2014\n",
      "Right.\n"
     ]
    }
   ],
   "source": [
    "# while loops are used if we don't know how many times we want to run the program\n",
    "print('''\n",
    "------\n",
    "Secret number game\n",
    "------\n",
    "''')\n",
    "# how to print multiple line text without use \\n\n",
    "secret_number= 14\n",
    "user_input = int(input('try to guess the secret number from 0 to 20'))\n",
    "while user_input != secret_number:\n",
    "    print('Try again')\n",
    "    user_input = int(input('try to guess the secret number from 0 to 20'))\n",
    "print('Right.')"
   ]
  },
  {
   "cell_type": "code",
   "execution_count": null,
   "id": "9ffc666f",
   "metadata": {},
   "outputs": [],
   "source": []
  }
 ],
 "metadata": {
  "kernelspec": {
   "display_name": "Python 3 (ipykernel)",
   "language": "python",
   "name": "python3"
  },
  "language_info": {
   "codemirror_mode": {
    "name": "ipython",
    "version": 3
   },
   "file_extension": ".py",
   "mimetype": "text/x-python",
   "name": "python",
   "nbconvert_exporter": "python",
   "pygments_lexer": "ipython3",
   "version": "3.9.13"
  }
 },
 "nbformat": 4,
 "nbformat_minor": 5
}
