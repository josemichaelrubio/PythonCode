{
 "cells": [
  {
   "cell_type": "code",
   "execution_count": 2,
   "id": "0c214601",
   "metadata": {},
   "outputs": [
    {
     "data": {
      "text/plain": [
       "5"
      ]
     },
     "execution_count": 2,
     "metadata": {},
     "output_type": "execute_result"
    }
   ],
   "source": [
    "2+3"
   ]
  },
  {
   "cell_type": "code",
   "execution_count": 3,
   "id": "a647c14b",
   "metadata": {},
   "outputs": [
    {
     "data": {
      "text/plain": [
       "1"
      ]
     },
     "execution_count": 3,
     "metadata": {},
     "output_type": "execute_result"
    }
   ],
   "source": [
    "5-4"
   ]
  },
  {
   "cell_type": "code",
   "execution_count": 6,
   "id": "0d59dc0e",
   "metadata": {},
   "outputs": [
    {
     "data": {
      "text/plain": [
       "15"
      ]
     },
     "execution_count": 6,
     "metadata": {},
     "output_type": "execute_result"
    }
   ],
   "source": [
    "3*5"
   ]
  },
  {
   "cell_type": "code",
   "execution_count": null,
   "id": "d6e60cf0",
   "metadata": {},
   "outputs": [],
   "source": [
    "#division has 3 types of operators: /, //, and %"
   ]
  },
  {
   "cell_type": "code",
   "execution_count": 12,
   "id": "95badb9c",
   "metadata": {},
   "outputs": [
    {
     "data": {
      "text/plain": [
       "2.6666666666666665"
      ]
     },
     "execution_count": 12,
     "metadata": {},
     "output_type": "execute_result"
    }
   ],
   "source": [
    "# / Standard division\n",
    "8/3#always produces a float number"
   ]
  },
  {
   "cell_type": "code",
   "execution_count": 2,
   "id": "2840814b",
   "metadata": {},
   "outputs": [
    {
     "data": {
      "text/plain": [
       "2"
      ]
     },
     "execution_count": 2,
     "metadata": {},
     "output_type": "execute_result"
    }
   ],
   "source": [
    "#integer division\n",
    "8//3 # returns rounded down whole number"
   ]
  },
  {
   "cell_type": "code",
   "execution_count": 3,
   "id": "cfde2eaa",
   "metadata": {},
   "outputs": [
    {
     "data": {
      "text/plain": [
       "4.0"
      ]
     },
     "execution_count": 3,
     "metadata": {},
     "output_type": "execute_result"
    }
   ],
   "source": [
    "#integer division part 2\n",
    "9.0//2 # if there is a float in a integer division, it returns the rounded down whole number as a float"
   ]
  },
  {
   "cell_type": "code",
   "execution_count": 20,
   "id": "c6970bc6",
   "metadata": {},
   "outputs": [
    {
     "data": {
      "text/plain": [
       "2"
      ]
     },
     "execution_count": 20,
     "metadata": {},
     "output_type": "execute_result"
    }
   ],
   "source": [
    "#modulus division 1\n",
    "8%3 #returns the remainder of the division"
   ]
  },
  {
   "cell_type": "code",
   "execution_count": 19,
   "id": "904b4f60",
   "metadata": {},
   "outputs": [
    {
     "data": {
      "text/plain": [
       "0"
      ]
     },
     "execution_count": 19,
     "metadata": {},
     "output_type": "execute_result"
    }
   ],
   "source": [
    "#modulus division 1\n",
    "8%4 #returns the remainder of the division"
   ]
  },
  {
   "cell_type": "code",
   "execution_count": 21,
   "id": "ab1a0dcd",
   "metadata": {},
   "outputs": [
    {
     "data": {
      "text/plain": [
       "8"
      ]
     },
     "execution_count": 21,
     "metadata": {},
     "output_type": "execute_result"
    }
   ],
   "source": [
    "# power operator\n",
    "2** 3 #same as 2^3"
   ]
  },
  {
   "cell_type": "code",
   "execution_count": 22,
   "id": "018e8be8",
   "metadata": {},
   "outputs": [
    {
     "data": {
      "text/plain": [
       "4"
      ]
     },
     "execution_count": 22,
     "metadata": {},
     "output_type": "execute_result"
    }
   ],
   "source": [
    "#if you use all integers in the operation, you'll return an integer number\n",
    "2+2"
   ]
  },
  {
   "cell_type": "code",
   "execution_count": 23,
   "id": "47077726",
   "metadata": {},
   "outputs": [
    {
     "data": {
      "text/plain": [
       "9.0"
      ]
     },
     "execution_count": 23,
     "metadata": {},
     "output_type": "execute_result"
    }
   ],
   "source": [
    "#if you use at least on float, you'll return a float\n",
    "3+3+3."
   ]
  },
  {
   "cell_type": "code",
   "execution_count": null,
   "id": "549ad3bc",
   "metadata": {},
   "outputs": [],
   "source": []
  }
 ],
 "metadata": {
  "kernelspec": {
   "display_name": "Python 3 (ipykernel)",
   "language": "python",
   "name": "python3"
  },
  "language_info": {
   "codemirror_mode": {
    "name": "ipython",
    "version": 3
   },
   "file_extension": ".py",
   "mimetype": "text/x-python",
   "name": "python",
   "nbconvert_exporter": "python",
   "pygments_lexer": "ipython3",
   "version": "3.9.13"
  }
 },
 "nbformat": 4,
 "nbformat_minor": 5
}
