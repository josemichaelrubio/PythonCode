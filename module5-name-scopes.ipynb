{
 "cells": [
  {
   "cell_type": "code",
   "execution_count": 3,
   "id": "20ba5592",
   "metadata": {},
   "outputs": [
    {
     "name": "stdout",
     "output_type": "stream",
     "text": [
      "Surprise\n",
      " New Surprise\n",
      "Surprise\n"
     ]
    }
   ],
   "source": [
    "#Scope of a name = part of the code where the nsame is properly recogninzable and can be used\n",
    "def show_truth():\n",
    "    mysterious_var = ' New Surprise' #local variable\n",
    "    print(mysterious_var)\n",
    "\n",
    "mysterious_var = 'Surprise' #global variable\n",
    "print(mysterious_var)\n",
    "show_truth()\n",
    "print(mysterious_var)"
   ]
  },
  {
   "cell_type": "code",
   "execution_count": 4,
   "id": "3b5a6c9a",
   "metadata": {},
   "outputs": [],
   "source": [
    "# Shadowing= when there is local variable with the same name of a global variable\n",
    "# the local variable does not alter the global variable"
   ]
  },
  {
   "cell_type": "code",
   "execution_count": 6,
   "id": "1b0dc86a",
   "metadata": {},
   "outputs": [
    {
     "name": "stdout",
     "output_type": "stream",
     "text": [
      "Surprise\n",
      " New Surprise\n",
      " New Surprise\n"
     ]
    }
   ],
   "source": [
    "# When you want to modify a global variable in a function: global\n",
    "def show_truth():\n",
    "    global mysterious_var\n",
    "    mysterious_var = ' New Surprise' #local variable\n",
    "    print(mysterious_var)\n",
    "\n",
    "mysterious_var = 'Surprise' #global variable\n",
    "print(mysterious_var)\n",
    "show_truth()\n",
    "print(mysterious_var)"
   ]
  },
  {
   "cell_type": "code",
   "execution_count": 7,
   "id": "b73bf8d9",
   "metadata": {},
   "outputs": [
    {
     "name": "stdout",
     "output_type": "stream",
     "text": [
      "['Surprise']\n",
      "['Surprise', 'New Surprise']\n",
      "['Surprise', 'New Surprise']\n"
     ]
    }
   ],
   "source": [
    "# working with lists\n",
    "def show_truth():\n",
    "    mysterious_var.append('New Surprise')\n",
    "    print(mysterious_var)\n",
    "\n",
    "mysterious_var = ['Surprise']\n",
    "print(mysterious_var)\n",
    "show_truth()\n",
    "print(mysterious_var)\n",
    "# when assigning a list, there is shadowing,\n",
    "#however, when adding to a list, it alters the global variable"
   ]
  },
  {
   "cell_type": "code",
   "execution_count": null,
   "id": "87aab7c5",
   "metadata": {},
   "outputs": [],
   "source": []
  }
 ],
 "metadata": {
  "kernelspec": {
   "display_name": "Python 3 (ipykernel)",
   "language": "python",
   "name": "python3"
  },
  "language_info": {
   "codemirror_mode": {
    "name": "ipython",
    "version": 3
   },
   "file_extension": ".py",
   "mimetype": "text/x-python",
   "name": "python",
   "nbconvert_exporter": "python",
   "pygments_lexer": "ipython3",
   "version": "3.9.13"
  }
 },
 "nbformat": 4,
 "nbformat_minor": 5
}
