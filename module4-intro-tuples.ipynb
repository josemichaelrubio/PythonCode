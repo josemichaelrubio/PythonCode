{
 "cells": [
  {
   "cell_type": "code",
   "execution_count": 1,
   "id": "f2f435bf",
   "metadata": {},
   "outputs": [],
   "source": [
    "# Tuples are similar to lists\n",
    "# created with ()\n",
    "empty_tuple = ()"
   ]
  },
  {
   "cell_type": "code",
   "execution_count": 2,
   "id": "0451a0db",
   "metadata": {},
   "outputs": [],
   "source": [
    "one_el_tuple_a= (1,) # notice the ,"
   ]
  },
  {
   "cell_type": "code",
   "execution_count": 3,
   "id": "61e9b45c",
   "metadata": {},
   "outputs": [],
   "source": [
    "one_el_tuple_b= 1, # , is for sintax reseaons"
   ]
  },
  {
   "cell_type": "code",
   "execution_count": 4,
   "id": "d5639517",
   "metadata": {},
   "outputs": [],
   "source": [
    "three_el_tuple = 1,2,3 #note that if the tuple has multple elements then the final , is optional\n",
    "three_el_tuple_b= 1,2,3,"
   ]
  },
  {
   "cell_type": "code",
   "execution_count": 5,
   "id": "12906bb3",
   "metadata": {},
   "outputs": [
    {
     "name": "stdout",
     "output_type": "stream",
     "text": [
      "(1, 2, 3)\n",
      "(1, 2, 3)\n"
     ]
    }
   ],
   "source": [
    "print(three_el_tuple)\n",
    "print(three_el_tuple_b)"
   ]
  },
  {
   "cell_type": "code",
   "execution_count": 6,
   "id": "b0d1e18b",
   "metadata": {},
   "outputs": [],
   "source": [
    "# Other than the () instead of [], the biggest difference is Mutability\n",
    "# Mutable data can be freely updated, Lists are mutable\n",
    "# Immutable cannot be updated, tuples are immutable"
   ]
  },
  {
   "cell_type": "code",
   "execution_count": 7,
   "id": "05cc135d",
   "metadata": {},
   "outputs": [],
   "source": [
    "# You can change a tuple, but you cannot append new elements or delete elements\n",
    "user_data= ('John', 'American', 1964)\n",
    "user_data= ('Alex', 'Russian', 1945,)"
   ]
  },
  {
   "cell_type": "code",
   "execution_count": 8,
   "id": "3dfa5ade",
   "metadata": {},
   "outputs": [
    {
     "name": "stdout",
     "output_type": "stream",
     "text": [
      "('Alex', 'Russian', 1945)\n"
     ]
    }
   ],
   "source": [
    "# You can get elements using slicing and indexing, but you cannot use that to change elements\n",
    "print(user_data)"
   ]
  },
  {
   "cell_type": "code",
   "execution_count": null,
   "id": "57b6fb2a",
   "metadata": {},
   "outputs": [],
   "source": [
    "# Strings are also immutable"
   ]
  }
 ],
 "metadata": {
  "kernelspec": {
   "display_name": "Python 3 (ipykernel)",
   "language": "python",
   "name": "python3"
  },
  "language_info": {
   "codemirror_mode": {
    "name": "ipython",
    "version": 3
   },
   "file_extension": ".py",
   "mimetype": "text/x-python",
   "name": "python",
   "nbconvert_exporter": "python",
   "pygments_lexer": "ipython3",
   "version": "3.9.13"
  }
 },
 "nbformat": 4,
 "nbformat_minor": 5
}
