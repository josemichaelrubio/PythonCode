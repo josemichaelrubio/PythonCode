{
 "cells": [
  {
   "cell_type": "code",
   "execution_count": 1,
   "id": "5a924761",
   "metadata": {},
   "outputs": [
    {
     "name": "stdout",
     "output_type": "stream",
     "text": [
      "Hello-How are you?."
     ]
    }
   ],
   "source": [
    "print('Hello', 'How are you?', end = '.', sep ='-') # keyword arguements"
   ]
  },
  {
   "cell_type": "code",
   "execution_count": 2,
   "id": "e547c81a",
   "metadata": {},
   "outputs": [
    {
     "name": "stdout",
     "output_type": "stream",
     "text": [
      "Number of a is 5\n"
     ]
    }
   ],
   "source": [
    "def print_letter_count(text, letter= 'a'): #default value\n",
    "    counter = 0\n",
    "    for char in text:\n",
    "        if char == letter:\n",
    "            counter += 1\n",
    "    print('Number of', letter,'is', counter)\n",
    "\n",
    "# Notice here that since we have a default value for the parameter letter\n",
    "# We only need one argument\n",
    "print_letter_count('addadadaa')\n",
    "\n"
   ]
  },
  {
   "cell_type": "code",
   "execution_count": null,
   "id": "2124f2c9",
   "metadata": {},
   "outputs": [],
   "source": [
    "# we can mix parameters with and without default values, but default value must appear at the wned\n",
    "# key word arguements must appear at the end\n",
    "# Positioal arguements must appear first before any names arguements"
   ]
  }
 ],
 "metadata": {
  "kernelspec": {
   "display_name": "Python 3 (ipykernel)",
   "language": "python",
   "name": "python3"
  },
  "language_info": {
   "codemirror_mode": {
    "name": "ipython",
    "version": 3
   },
   "file_extension": ".py",
   "mimetype": "text/x-python",
   "name": "python",
   "nbconvert_exporter": "python",
   "pygments_lexer": "ipython3",
   "version": "3.9.13"
  }
 },
 "nbformat": 4,
 "nbformat_minor": 5
}
