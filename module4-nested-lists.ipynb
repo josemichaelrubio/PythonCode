{
 "cells": [
  {
   "cell_type": "code",
   "execution_count": 1,
   "id": "9a24c0df",
   "metadata": {},
   "outputs": [],
   "source": [
    "# Lists are collection of multiple elements\n",
    "numbers = [1,2,3]"
   ]
  },
  {
   "cell_type": "code",
   "execution_count": 2,
   "id": "1821395c",
   "metadata": {},
   "outputs": [],
   "source": [
    "countries =['Uk','USA']"
   ]
  },
  {
   "cell_type": "code",
   "execution_count": 3,
   "id": "9ad8ba6c",
   "metadata": {},
   "outputs": [],
   "source": [
    "# Lists can have multiple elements of different date types\n",
    "# Not Recommended!\n",
    "mixList = ['UK', 2, 'USA', 1]"
   ]
  },
  {
   "cell_type": "code",
   "execution_count": 4,
   "id": "55586013",
   "metadata": {},
   "outputs": [],
   "source": [
    "# Lists can also have other lists as elements\n",
    "cells = [[1,2,3,4],[5,6,7,8]]"
   ]
  },
  {
   "cell_type": "code",
   "execution_count": 5,
   "id": "78b48d88",
   "metadata": {},
   "outputs": [
    {
     "data": {
      "text/plain": [
       "[1, 2, 3, 4]"
      ]
     },
     "execution_count": 5,
     "metadata": {},
     "output_type": "execute_result"
    }
   ],
   "source": [
    "cells[0]"
   ]
  },
  {
   "cell_type": "code",
   "execution_count": 6,
   "id": "dd0130ff",
   "metadata": {},
   "outputs": [
    {
     "data": {
      "text/plain": [
       "1"
      ]
     },
     "execution_count": 6,
     "metadata": {},
     "output_type": "execute_result"
    }
   ],
   "source": [
    "#Access a specfic element of a sublist\n",
    "cells[0][0]"
   ]
  },
  {
   "cell_type": "code",
   "execution_count": 7,
   "id": "dae551bb",
   "metadata": {},
   "outputs": [
    {
     "name": "stdout",
     "output_type": "stream",
     "text": [
      "elements: [1, 2, 3, 4]\n",
      "elements: [5, 6, 7, 8]\n"
     ]
    }
   ],
   "source": [
    "cells = [[1,2,3,4],[5,6,7,8]]\n",
    "for x in cells:\n",
    "    print('elements:',x)"
   ]
  },
  {
   "cell_type": "code",
   "execution_count": 8,
   "id": "46872701",
   "metadata": {},
   "outputs": [
    {
     "name": "stdout",
     "output_type": "stream",
     "text": [
      "elements: 1\n",
      "elements: 2\n",
      "elements: 3\n",
      "elements: 4\n",
      "elements: 5\n",
      "elements: 6\n",
      "elements: 7\n",
      "elements: 8\n"
     ]
    }
   ],
   "source": [
    "cells = [[1,2,3,4],[5,6,7,8]]\n",
    "for x in cells:\n",
    "    for y in x:\n",
    "        print('elements:',y)"
   ]
  },
  {
   "cell_type": "code",
   "execution_count": 9,
   "id": "a55d43a0",
   "metadata": {},
   "outputs": [],
   "source": [
    "# Multi dimension lists are called nested lists"
   ]
  },
  {
   "cell_type": "code",
   "execution_count": 10,
   "id": "a84b93d1",
   "metadata": {},
   "outputs": [
    {
     "name": "stdout",
     "output_type": "stream",
     "text": [
      "elements: 1\n",
      "elements: 2\n",
      "elements: 3\n",
      "elements: 4\n",
      "elements: 5\n",
      "elements: 6\n",
      "elements: 7\n",
      "elements: 8\n"
     ]
    }
   ],
   "source": [
    "# Usually multi-dimensions lists are called tables\n",
    "table = [[1,2,3,4],[5,6,7,8]]\n",
    "for row in table:\n",
    "    for cell in row:\n",
    "        print('elements:',cell)"
   ]
  },
  {
   "cell_type": "code",
   "execution_count": 11,
   "id": "cc825b4d",
   "metadata": {},
   "outputs": [
    {
     "name": "stdout",
     "output_type": "stream",
     "text": [
      "1 2 3 4 \n",
      "5 6 7 8 \n"
     ]
    }
   ],
   "source": [
    "# How to make it look like a table\n",
    "table = [[1,2,3,4],[5,6,7,8]]\n",
    "for row in table:\n",
    "    for cell in row:\n",
    "        print(cell, '',end='')\n",
    "    print()"
   ]
  },
  {
   "cell_type": "code",
   "execution_count": 14,
   "id": "1da6ba4f",
   "metadata": {},
   "outputs": [
    {
     "name": "stdout",
     "output_type": "stream",
     "text": [
      "[[1, 2, 3, 4, 5], [1, 2, 3, 4, 5], [1, 2, 3, 4, 5], [1, 2, 3, 4, 5]]\n"
     ]
    }
   ],
   "source": [
    "# 1 2 3 4 5\n",
    "# 1 2 3 4 5\n",
    "# 1 2 3 4 5\n",
    "# 1 2 3 4 5\n",
    "\n",
    "table = [[i for i in range(1,6)] for j in range(4) ]\n",
    "print(table)"
   ]
  },
  {
   "cell_type": "code",
   "execution_count": null,
   "id": "0cbaaf96",
   "metadata": {},
   "outputs": [],
   "source": []
  }
 ],
 "metadata": {
  "kernelspec": {
   "display_name": "Python 3 (ipykernel)",
   "language": "python",
   "name": "python3"
  },
  "language_info": {
   "codemirror_mode": {
    "name": "ipython",
    "version": 3
   },
   "file_extension": ".py",
   "mimetype": "text/x-python",
   "name": "python",
   "nbconvert_exporter": "python",
   "pygments_lexer": "ipython3",
   "version": "3.9.13"
  }
 },
 "nbformat": 4,
 "nbformat_minor": 5
}
