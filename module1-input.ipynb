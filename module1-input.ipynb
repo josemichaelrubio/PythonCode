{
 "cells": [
  {
   "cell_type": "code",
   "execution_count": 3,
   "id": "2e6946e7",
   "metadata": {},
   "outputs": [
    {
     "name": "stdout",
     "output_type": "stream",
     "text": [
      "WHAT IS your name\n",
      "Jose\n",
      "hello, Jose\n"
     ]
    }
   ],
   "source": [
    "#input is a function that asks the user a value and gives back the value that the user provides\n",
    "print('WHAT IS your name')\n",
    "user_name= input()\n",
    "print('hello,', user_name)"
   ]
  },
  {
   "cell_type": "code",
   "execution_count": 4,
   "id": "05c4c5ba",
   "metadata": {},
   "outputs": [],
   "source": [
    "#functions in python can:\n",
    "# 1. Cause some effect like show text in consule, create a file, or play a sound\n",
    "#  .. like print()\n",
    "# 2. Return a value as the function result\n",
    "# .. When functions reutrn values in python, we often save the values"
   ]
  },
  {
   "cell_type": "code",
   "execution_count": 5,
   "id": "f5164cfa",
   "metadata": {},
   "outputs": [
    {
     "name": "stdout",
     "output_type": "stream",
     "text": [
      "What is your name?Jose\n",
      "Hello, Jose\n"
     ]
    }
   ],
   "source": [
    "user_name = input('What is your name?')\n",
    "print('Hello,' , user_name)"
   ]
  },
  {
   "cell_type": "code",
   "execution_count": null,
   "id": "7af4a51d",
   "metadata": {},
   "outputs": [],
   "source": [
    "#input function always returns a string value, even if the user enters a number"
   ]
  }
 ],
 "metadata": {
  "kernelspec": {
   "display_name": "Python 3 (ipykernel)",
   "language": "python",
   "name": "python3"
  },
  "language_info": {
   "codemirror_mode": {
    "name": "ipython",
    "version": 3
   },
   "file_extension": ".py",
   "mimetype": "text/x-python",
   "name": "python",
   "nbconvert_exporter": "python",
   "pygments_lexer": "ipython3",
   "version": "3.9.13"
  }
 },
 "nbformat": 4,
 "nbformat_minor": 5
}
