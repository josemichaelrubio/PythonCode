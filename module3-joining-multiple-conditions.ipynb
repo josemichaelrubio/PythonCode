{
 "cells": [
  {
   "cell_type": "code",
   "execution_count": 1,
   "id": "4068dae1",
   "metadata": {},
   "outputs": [
    {
     "name": "stdout",
     "output_type": "stream",
     "text": [
      "What is your age\n"
     ]
    },
    {
     "ename": "ValueError",
     "evalue": "invalid literal for int() with base 10: ''",
     "output_type": "error",
     "traceback": [
      "\u001b[0;31m---------------------------------------------------------------------------\u001b[0m",
      "\u001b[0;31mValueError\u001b[0m                                Traceback (most recent call last)",
      "\u001b[0;32m/var/folders/99/y6wx3_cs3t7fymkm7ql3pfd00000gn/T/ipykernel_8782/1629736027.py\u001b[0m in \u001b[0;36m<module>\u001b[0;34m\u001b[0m\n\u001b[1;32m      1\u001b[0m \u001b[0;31m# Boolean Operators: and or not\u001b[0m\u001b[0;34m\u001b[0m\u001b[0;34m\u001b[0m\u001b[0m\n\u001b[1;32m      2\u001b[0m \u001b[0;31m#and\u001b[0m\u001b[0;34m\u001b[0m\u001b[0;34m\u001b[0m\u001b[0m\n\u001b[0;32m----> 3\u001b[0;31m \u001b[0muser_age\u001b[0m \u001b[0;34m=\u001b[0m \u001b[0mint\u001b[0m\u001b[0;34m(\u001b[0m\u001b[0minput\u001b[0m\u001b[0;34m(\u001b[0m\u001b[0;34m'What is your age'\u001b[0m\u001b[0;34m)\u001b[0m\u001b[0;34m)\u001b[0m\u001b[0;34m\u001b[0m\u001b[0;34m\u001b[0m\u001b[0m\n\u001b[0m\u001b[1;32m      4\u001b[0m \u001b[0muser_country\u001b[0m\u001b[0;34m=\u001b[0m \u001b[0minput\u001b[0m\u001b[0;34m(\u001b[0m\u001b[0;34m'What is your country'\u001b[0m\u001b[0;34m)\u001b[0m\u001b[0;34m\u001b[0m\u001b[0;34m\u001b[0m\u001b[0m\n\u001b[1;32m      5\u001b[0m \u001b[0;34m\u001b[0m\u001b[0m\n",
      "\u001b[0;31mValueError\u001b[0m: invalid literal for int() with base 10: ''"
     ]
    }
   ],
   "source": [
    "# Boolean Operators: and or not\n",
    "#and\n",
    "user_age = int(input('What is your age'))\n",
    "user_country= input('What is your country')\n",
    "\n",
    "if user_age >25 and user_country== 'usa':\n",
    "    print('You\\'re over 25 and american')\n",
    "else:\n",
    "    print('You maybe under 25 or not american')"
   ]
  },
  {
   "cell_type": "code",
   "execution_count": 2,
   "id": "b9895691",
   "metadata": {},
   "outputs": [
    {
     "name": "stdout",
     "output_type": "stream",
     "text": [
      "What car do you have? a\n",
      "you have a toyota or nissan\n"
     ]
    }
   ],
   "source": [
    "#or\n",
    "car = input('What car do you have? ')\n",
    "if car == 'toyota' or 'nissan' or 'ford':\n",
    "    print('you have a toyota or nissan')\n",
    "else:\n",
    "    print('you don\\'t have a toyota, nissan, or ford')"
   ]
  },
  {
   "cell_type": "code",
   "execution_count": 4,
   "id": "79c48c43",
   "metadata": {},
   "outputs": [
    {
     "name": "stdout",
     "output_type": "stream",
     "text": [
      "where are you? aq\n",
      "Then you're there\n"
     ]
    }
   ],
   "source": [
    "#not: negates boolean value\n",
    "#useful for in and list operators\n",
    "location = input ('where are you? ')\n",
    "if not location  == ('here'):\n",
    "    \n",
    "    print('Then you\\'re there')\n",
    "else:\n",
    "    print('Always')"
   ]
  },
  {
   "cell_type": "code",
   "execution_count": null,
   "id": "48e67a4c",
   "metadata": {},
   "outputs": [],
   "source": [
    "# can use all these boolean operators in the same condtition\n",
    "user_age = int(input('What is your age'))\n",
    "user_country= input('What is your country')\n",
    "\n",
    " #backslash \\ allows use to continue the instructions on a different line\n",
    "    # comments cannot follow the backslash\n",
    "if not user_age >25 and user_country== 'usa' or \\\n",
    "user_country== 'germany' and user_age== 3:\n",
    "    print('You\\'re over 25 and american')\n",
    "else:\n",
    "    print('You maybe under 25 or not american')\n",
    "    print(\"good\")\n"
   ]
  },
  {
   "cell_type": "code",
   "execution_count": null,
   "id": "23d38363",
   "metadata": {},
   "outputs": [],
   "source": [
    "# order of boolean operations:\n",
    "#. 1 not\n",
    "#. 2 and\n",
    "#. 3 or"
   ]
  },
  {
   "cell_type": "code",
   "execution_count": null,
   "id": "e6649379",
   "metadata": {},
   "outputs": [],
   "source": [
    "# parcences can be used to change the order of operation\n",
    "user_age = int(input('What is your age'))\n",
    "user_country= input('What is your country')\n",
    "\n",
    "if ((not user_age >25) and user_country== 'usa') or \\ # backslash \\ allows use to continue the instructions on a different line\n",
    "user_country== 'germany' and user_age== 3:\n",
    "    print('You\\'re over 25 and american')\n",
    "else:\n",
    "    print('You maybe under 25 or not american')\n",
    "    print(\"good\")"
   ]
  },
  {
   "cell_type": "code",
   "execution_count": null,
   "id": "8b610290",
   "metadata": {},
   "outputs": [],
   "source": []
  },
  {
   "cell_type": "code",
   "execution_count": null,
   "id": "ae96e8fc",
   "metadata": {},
   "outputs": [],
   "source": []
  },
  {
   "cell_type": "code",
   "execution_count": null,
   "id": "a7fc8119",
   "metadata": {},
   "outputs": [],
   "source": []
  }
 ],
 "metadata": {
  "kernelspec": {
   "display_name": "Python 3 (ipykernel)",
   "language": "python",
   "name": "python3"
  },
  "language_info": {
   "codemirror_mode": {
    "name": "ipython",
    "version": 3
   },
   "file_extension": ".py",
   "mimetype": "text/x-python",
   "name": "python",
   "nbconvert_exporter": "python",
   "pygments_lexer": "ipython3",
   "version": "3.9.13"
  }
 },
 "nbformat": 4,
 "nbformat_minor": 5
}
