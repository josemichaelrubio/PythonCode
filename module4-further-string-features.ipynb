{
 "cells": [
  {
   "cell_type": "code",
   "execution_count": 1,
   "id": "f1f45ca6",
   "metadata": {},
   "outputs": [],
   "source": [
    " # Strings are also sequences, just like lists"
   ]
  },
  {
   "cell_type": "code",
   "execution_count": 2,
   "id": "470680d2",
   "metadata": {},
   "outputs": [
    {
     "name": "stdout",
     "output_type": "stream",
     "text": [
      "D\n"
     ]
    }
   ],
   "source": [
    "favBand = 'Green Day'\n",
    "print(favBand[6])"
   ]
  },
  {
   "cell_type": "code",
   "execution_count": 4,
   "id": "ec2b9c3b",
   "metadata": {},
   "outputs": [
    {
     "name": "stdout",
     "output_type": "stream",
     "text": [
      "Green \n"
     ]
    }
   ],
   "source": [
    "# Using splicing to print the first 6 letters\n",
    "print(favBand[:6])"
   ]
  },
  {
   "cell_type": "code",
   "execution_count": 6,
   "id": "e74e7c17",
   "metadata": {},
   "outputs": [
    {
     "name": "stdout",
     "output_type": "stream",
     "text": [
      "CAP\n"
     ]
    }
   ],
   "source": [
    "# Strings dont offer apphend or such, but they have other methods\n",
    "text = \"cap\"\n",
    "text_cap = text.upper()\n",
    "print(text_cap)"
   ]
  },
  {
   "cell_type": "code",
   "execution_count": 8,
   "id": "e92cc075",
   "metadata": {},
   "outputs": [
    {
     "name": "stdout",
     "output_type": "stream",
     "text": [
      "Please provide a numbert\n",
      "t is not a number\n"
     ]
    }
   ],
   "source": [
    "# A string method that checks if the user is numeric\n",
    "user_number = input('Please provide a number')\n",
    "if user_number.isnumeric():\n",
    "    print('Thank you, that \\'s a correct number!')\n",
    "else:\n",
    "    print(user_number, 'is not a number')"
   ]
  },
  {
   "cell_type": "code",
   "execution_count": null,
   "id": "f3e98925",
   "metadata": {},
   "outputs": [],
   "source": []
  }
 ],
 "metadata": {
  "kernelspec": {
   "display_name": "Python 3 (ipykernel)",
   "language": "python",
   "name": "python3"
  },
  "language_info": {
   "codemirror_mode": {
    "name": "ipython",
    "version": 3
   },
   "file_extension": ".py",
   "mimetype": "text/x-python",
   "name": "python",
   "nbconvert_exporter": "python",
   "pygments_lexer": "ipython3",
   "version": "3.9.13"
  }
 },
 "nbformat": 4,
 "nbformat_minor": 5
}
