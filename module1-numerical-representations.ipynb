{
 "cells": [
  {
   "cell_type": "code",
   "execution_count": 1,
   "id": "0924c8d8",
   "metadata": {},
   "outputs": [
    {
     "name": "stdout",
     "output_type": "stream",
     "text": [
      "12000000\n",
      "12000000\n"
     ]
    }
   ],
   "source": [
    "# underscores in numbers\n",
    "number1= 12000000\n",
    "number2= 12_000_000\n",
    "print(number1)\n",
    "print(number2)"
   ]
  },
  {
   "cell_type": "code",
   "execution_count": 2,
   "id": "a877dde0",
   "metadata": {},
   "outputs": [
    {
     "name": "stdout",
     "output_type": "stream",
     "text": [
      "3e-13\n"
     ]
    }
   ],
   "source": [
    "# Scientific notation\n",
    "# 3e4 = 3E4 = 3 * 10000 = 30000\n",
    "# 3e-4 = 3E-4 = 3* 1/1000 = 0.0003\n",
    "print(0.0000000000003)"
   ]
  },
  {
   "cell_type": "code",
   "execution_count": 3,
   "id": "129bf440",
   "metadata": {},
   "outputs": [
    {
     "name": "stdout",
     "output_type": "stream",
     "text": [
      "0.0003\n"
     ]
    }
   ],
   "source": [
    "print(3e-4)"
   ]
  },
  {
   "cell_type": "code",
   "execution_count": 4,
   "id": "c8c6edfd",
   "metadata": {},
   "outputs": [
    {
     "name": "stdout",
     "output_type": "stream",
     "text": [
      "83\n"
     ]
    }
   ],
   "source": [
    "#octal numbers\n",
    "# start with 0O or 0o, prefix of O/o must be from the range 0 to 7 only\n",
    "print(0o123)"
   ]
  },
  {
   "cell_type": "code",
   "execution_count": 5,
   "id": "bc43a468",
   "metadata": {},
   "outputs": [
    {
     "name": "stdout",
     "output_type": "stream",
     "text": [
      "291\n"
     ]
    }
   ],
   "source": [
    "# Hexadecimal numbers\n",
    "# start with OX or Ox\n",
    "print(0x123)"
   ]
  },
  {
   "cell_type": "code",
   "execution_count": null,
   "id": "94c5f4ef",
   "metadata": {},
   "outputs": [],
   "source": []
  }
 ],
 "metadata": {
  "kernelspec": {
   "display_name": "Python 3 (ipykernel)",
   "language": "python",
   "name": "python3"
  },
  "language_info": {
   "codemirror_mode": {
    "name": "ipython",
    "version": 3
   },
   "file_extension": ".py",
   "mimetype": "text/x-python",
   "name": "python",
   "nbconvert_exporter": "python",
   "pygments_lexer": "ipython3",
   "version": "3.9.13"
  }
 },
 "nbformat": 4,
 "nbformat_minor": 5
}
