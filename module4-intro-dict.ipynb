{
 "cells": [
  {
   "cell_type": "code",
   "execution_count": 1,
   "id": "cd03e897",
   "metadata": {},
   "outputs": [],
   "source": [
    "# dictionaries are collections used to store key-value pairs\n"
   ]
  },
  {
   "cell_type": "code",
   "execution_count": 2,
   "id": "f8cfccb9",
   "metadata": {},
   "outputs": [],
   "source": [
    "emails = {\n",
    "    'Anne' : 'anne@email.com',\n",
    "    'David' : 'david@email.com',\n",
    "    'Josh': 'josh@email.com'\n",
    "}"
   ]
  },
  {
   "cell_type": "code",
   "execution_count": 4,
   "id": "3e7e92bb",
   "metadata": {},
   "outputs": [
    {
     "name": "stdout",
     "output_type": "stream",
     "text": [
      "anne@email.com\n"
     ]
    }
   ],
   "source": [
    "print(emails['Anne'])"
   ]
  },
  {
   "cell_type": "code",
   "execution_count": 5,
   "id": "be42ce26",
   "metadata": {},
   "outputs": [],
   "source": [
    "# in dictionaries, we ask call the key, not the index, to get the values"
   ]
  },
  {
   "cell_type": "code",
   "execution_count": 6,
   "id": "4ae7d960",
   "metadata": {},
   "outputs": [],
   "source": [
    "# {} indicates a dictionary\n",
    "# Keys must be unquie, other wise, the value of a key will be replaced if there is another value with the same key\n",
    "# Keys can be of any other immutable data type (like int, fl, tupples, but not lists)"
   ]
  },
  {
   "cell_type": "code",
   "execution_count": 7,
   "id": "c41467b0",
   "metadata": {},
   "outputs": [],
   "source": [
    "ranks = {\n",
    "    1: 'Anne',\n",
    "    2: 'David',\n",
    "    3: 'Josh'\n",
    "}"
   ]
  },
  {
   "cell_type": "code",
   "execution_count": null,
   "id": "c84fc370",
   "metadata": {},
   "outputs": [],
   "source": [
    "# the value can be of any data type"
   ]
  }
 ],
 "metadata": {
  "kernelspec": {
   "display_name": "Python 3 (ipykernel)",
   "language": "python",
   "name": "python3"
  },
  "language_info": {
   "codemirror_mode": {
    "name": "ipython",
    "version": 3
   },
   "file_extension": ".py",
   "mimetype": "text/x-python",
   "name": "python",
   "nbconvert_exporter": "python",
   "pygments_lexer": "ipython3",
   "version": "3.9.13"
  }
 },
 "nbformat": 4,
 "nbformat_minor": 5
}
