{
 "cells": [
  {
   "cell_type": "code",
   "execution_count": 4,
   "id": "41ca5852",
   "metadata": {},
   "outputs": [
    {
     "name": "stdout",
     "output_type": "stream",
     "text": [
      "do you like traveling? Y/N? Y\n",
      "Y\n",
      "WhyY\n",
      "good\n"
     ]
    }
   ],
   "source": [
    "answer_a = input('do you like traveling? Y/N? ')\n",
    "if answer_a == 'Y':\n",
    "    print('Y')\n",
    "    answer_b = input('Why')\n",
    "    if answer_b != \"no\":\n",
    "            print('good')\n",
    "else:\n",
    "    print(\"bye\")\n"
   ]
  },
  {
   "cell_type": "code",
   "execution_count": null,
   "id": "68b2ef94",
   "metadata": {},
   "outputs": [],
   "source": [
    "#indentation is very imporant, multiple level "
   ]
  }
 ],
 "metadata": {
  "kernelspec": {
   "display_name": "Python 3 (ipykernel)",
   "language": "python",
   "name": "python3"
  },
  "language_info": {
   "codemirror_mode": {
    "name": "ipython",
    "version": 3
   },
   "file_extension": ".py",
   "mimetype": "text/x-python",
   "name": "python",
   "nbconvert_exporter": "python",
   "pygments_lexer": "ipython3",
   "version": "3.9.13"
  }
 },
 "nbformat": 4,
 "nbformat_minor": 5
}
