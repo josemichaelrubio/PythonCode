{
 "cells": [
  {
   "cell_type": "code",
   "execution_count": 1,
   "id": "b46aabfc",
   "metadata": {},
   "outputs": [],
   "source": [
    "#for\n",
    "# also known as iterating\n",
    "# for loops are used used to go through all the elements in a sequence\n",
    "# Sequences special data structures that can store more than one value and can be browsed sequentaly, element by element\n",
    "# Sequence type: a String, a sequence used to store more than one character\n",
    "# Keywords: for in"
   ]
  },
  {
   "cell_type": "code",
   "execution_count": null,
   "id": "438354b0",
   "metadata": {},
   "outputs": [],
   "source": [
    "#for control_Variable in sequence:"
   ]
  },
  {
   "cell_type": "code",
   "execution_count": 2,
   "id": "cd0af71a",
   "metadata": {},
   "outputs": [
    {
     "name": "stdout",
     "output_type": "stream",
     "text": [
      "current letter H\n",
      "current letter e\n",
      "current letter l\n",
      "current letter l\n",
      "current letter o\n"
     ]
    }
   ],
   "source": [
    "#looping through Strings\n",
    "for letter in \"Hello\":\n",
    "    print('current letter', letter)"
   ]
  },
  {
   "cell_type": "code",
   "execution_count": 3,
   "id": "d8c257cb",
   "metadata": {},
   "outputs": [],
   "source": [
    "# incremenation not needed, \n",
    "# each time loop completes, it assigns the control variable to the next character in the squence\n",
    "#an interation is each time the for look completes. So the first iteration printed \"current letter H\"\n",
    "# there are 5 interations in this loop"
   ]
  },
  {
   "cell_type": "code",
   "execution_count": 4,
   "id": "0c7d695d",
   "metadata": {},
   "outputs": [
    {
     "name": "stdout",
     "output_type": "stream",
     "text": [
      "1\n",
      "2\n",
      "3\n",
      "4\n",
      "5\n",
      "6\n",
      "7\n",
      "8\n",
      "9\n",
      "10\n",
      "Finished\n"
     ]
    }
   ],
   "source": [
    "#interating through numbers\n",
    "for counter in range (1,11): #range function generates all the interger values. Start value is included, end value is not.\n",
    "    print(counter)\n",
    "print('Finished')"
   ]
  },
  {
   "cell_type": "code",
   "execution_count": 5,
   "id": "8da858bb",
   "metadata": {},
   "outputs": [
    {
     "name": "stdout",
     "output_type": "stream",
     "text": [
      "0\n",
      "1\n",
      "2\n",
      "3\n",
      "4\n",
      "5\n",
      "6\n",
      "7\n",
      "8\n",
      "9\n",
      "10\n",
      "Finished\n"
     ]
    }
   ],
   "source": [
    "for counter in range (11): #default start value is 0, default increase value is 1, end value is 11\n",
    "    print(counter)\n",
    "print('Finished')"
   ]
  },
  {
   "cell_type": "code",
   "execution_count": 6,
   "id": "2765ad83",
   "metadata": {},
   "outputs": [
    {
     "name": "stdout",
     "output_type": "stream",
     "text": [
      "1\n",
      "3\n",
      "5\n",
      "7\n",
      "9\n",
      "Finished\n"
     ]
    }
   ],
   "source": [
    "for counter in range (1,11,2): # 3rd number sets incrementation\n",
    "    print(counter)\n",
    "print('Finished')"
   ]
  },
  {
   "cell_type": "code",
   "execution_count": null,
   "id": "cbbc686c",
   "metadata": {},
   "outputs": [],
   "source": []
  }
 ],
 "metadata": {
  "kernelspec": {
   "display_name": "Python 3 (ipykernel)",
   "language": "python",
   "name": "python3"
  },
  "language_info": {
   "codemirror_mode": {
    "name": "ipython",
    "version": 3
   },
   "file_extension": ".py",
   "mimetype": "text/x-python",
   "name": "python",
   "nbconvert_exporter": "python",
   "pygments_lexer": "ipython3",
   "version": "3.9.13"
  }
 },
 "nbformat": 4,
 "nbformat_minor": 5
}
