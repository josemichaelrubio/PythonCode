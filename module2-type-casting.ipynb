{
 "cells": [
  {
   "cell_type": "code",
   "execution_count": 2,
   "id": "021c2673",
   "metadata": {},
   "outputs": [
    {
     "name": "stdout",
     "output_type": "stream",
     "text": [
      "Height converter: enter your height in cm: 10\n",
      "Your height in feet is: 0.32808398950131235\n"
     ]
    }
   ],
   "source": [
    "# with in the input(), the user's input is always a string\n",
    "# So, to type cast the user's input, we use the float()\n",
    "height_cm= input('Height converter: enter your height in cm: ')\n",
    "float_height_cm= float(height_cm)\n",
    "print('Your height in feet is:',float_height_cm / 30.48)"
   ]
  },
  {
   "cell_type": "code",
   "execution_count": 3,
   "id": "7ad3efc4",
   "metadata": {},
   "outputs": [
    {
     "name": "stdout",
     "output_type": "stream",
     "text": [
      "Height converter: enter your height in cm: 10\n",
      "Your height in feet is: 0.32808398950131235\n"
     ]
    }
   ],
   "source": [
    "# we can also use two funtions in a single line as follows:\n",
    "height_cm= float(input('Height converter: enter your height in cm: '))\n",
    "print('Your height in feet is:',height_cm / 30.48)"
   ]
  },
  {
   "cell_type": "code",
   "execution_count": null,
   "id": "546e30df",
   "metadata": {},
   "outputs": [],
   "source": [
    "# other type casting functions\n",
    "int() #takes an string input and converts it into int\n",
    "str() #converts a int or a float into a string\n",
    "#changing between data types is called type casting"
   ]
  }
 ],
 "metadata": {
  "kernelspec": {
   "display_name": "Python 3 (ipykernel)",
   "language": "python",
   "name": "python3"
  },
  "language_info": {
   "codemirror_mode": {
    "name": "ipython",
    "version": 3
   },
   "file_extension": ".py",
   "mimetype": "text/x-python",
   "name": "python",
   "nbconvert_exporter": "python",
   "pygments_lexer": "ipython3",
   "version": "3.9.13"
  }
 },
 "nbformat": 4,
 "nbformat_minor": 5
}
