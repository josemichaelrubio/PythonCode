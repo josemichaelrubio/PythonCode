{
 "cells": [
  {
   "cell_type": "code",
   "execution_count": 1,
   "id": "e70999a7",
   "metadata": {},
   "outputs": [],
   "source": [
    "# All Logical Operators:\n",
    "# < less than\n",
    "# > greater than\n",
    "# <= less than or equal to\n",
    "# == equals\n",
    "# != not equals"
   ]
  },
  {
   "cell_type": "code",
   "execution_count": 2,
   "id": "612dfd8e",
   "metadata": {},
   "outputs": [
    {
     "name": "stdout",
     "output_type": "stream",
     "text": [
      "Do you know the secret password1\n",
      "You're not in\n"
     ]
    }
   ],
   "source": [
    "password =input('Do you know the secret password')\n",
    "if password == 'yes':\n",
    "    print('you\\'re in.')\n",
    "else:\n",
    "    print('You\\'re not in')"
   ]
  },
  {
   "cell_type": "code",
   "execution_count": 3,
   "id": "9f1a9ce0",
   "metadata": {},
   "outputs": [
    {
     "name": "stdout",
     "output_type": "stream",
     "text": [
      "True\n"
     ]
    }
   ],
   "source": [
    "# if blocks are only executed if condition is true\n",
    "if True:\n",
    "    print(True)"
   ]
  },
  {
   "cell_type": "code",
   "execution_count": 4,
   "id": "927e5a35",
   "metadata": {},
   "outputs": [],
   "source": [
    "if False:\n",
    "    print(False)"
   ]
  },
  {
   "cell_type": "code",
   "execution_count": 5,
   "id": "b8f308db",
   "metadata": {},
   "outputs": [
    {
     "name": "stdout",
     "output_type": "stream",
     "text": [
      "true\n"
     ]
    }
   ],
   "source": [
    "if 2 == 2.0: \n",
    "    print('true')\n",
    "#python automatically converts ints to floats when checking for conitions"
   ]
  },
  {
   "cell_type": "code",
   "execution_count": null,
   "id": "4598c7b4",
   "metadata": {},
   "outputs": [],
   "source": []
  }
 ],
 "metadata": {
  "kernelspec": {
   "display_name": "Python 3 (ipykernel)",
   "language": "python",
   "name": "python3"
  },
  "language_info": {
   "codemirror_mode": {
    "name": "ipython",
    "version": 3
   },
   "file_extension": ".py",
   "mimetype": "text/x-python",
   "name": "python",
   "nbconvert_exporter": "python",
   "pygments_lexer": "ipython3",
   "version": "3.9.13"
  }
 },
 "nbformat": 4,
 "nbformat_minor": 5
}
