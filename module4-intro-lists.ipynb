{
 "cells": [
  {
   "cell_type": "code",
   "execution_count": 1,
   "id": "5446d4fc",
   "metadata": {},
   "outputs": [],
   "source": [
    "# lists\n",
    "# tuples\n",
    "# dictionaries"
   ]
  },
  {
   "cell_type": "code",
   "execution_count": 2,
   "id": "1d3ea4b4",
   "metadata": {},
   "outputs": [],
   "source": [
    "# Lists- used to store multiple values of the same type\n",
    "empty_list = [] # [] is a declaration of a list"
   ]
  },
  {
   "cell_type": "code",
   "execution_count": 7,
   "id": "bc5caff3",
   "metadata": {},
   "outputs": [
    {
     "name": "stdout",
     "output_type": "stream",
     "text": [
      "['New York City', 'Los Angeles', 'Washington DC']\n",
      "New York City\n",
      "Washington DC\n"
     ]
    }
   ],
   "source": [
    "top_cities= ['New York City', 'Los Angeles', 'Washington DC']\n",
    "print(top_cities)\n",
    "print(top_cities[0]) #indexing: the operation of picking a specific element from a list using its index\n",
    "print(top_cities[-1]) # negative indices gives the last element on the list\n",
    "# here retrive a string value"
   ]
  },
  {
   "cell_type": "code",
   "execution_count": 8,
   "id": "bc66bfc6",
   "metadata": {},
   "outputs": [],
   "source": [
    "# each element in a indexed\n",
    "# list indices start at 0, so 'New York City is index 0'\n",
    "#python can use negative indices"
   ]
  },
  {
   "cell_type": "code",
   "execution_count": 9,
   "id": "5e3713b6",
   "metadata": {},
   "outputs": [
    {
     "data": {
      "text/plain": [
       "['New York City', 'Los Angeles']"
      ]
     },
     "execution_count": 9,
     "metadata": {},
     "output_type": "execute_result"
    }
   ],
   "source": [
    "# Slicing: access a few but not all elements\n",
    "top_cities[0:2] # first index to include in the silce : the last element to not include in the slice\n",
    "#slicing get's a list of elements,\n"
   ]
  },
  {
   "cell_type": "code",
   "execution_count": 10,
   "id": "593d6813",
   "metadata": {},
   "outputs": [
    {
     "data": {
      "text/plain": [
       "['Los Angeles', 'Washington DC']"
      ]
     },
     "execution_count": 10,
     "metadata": {},
     "output_type": "execute_result"
    }
   ],
   "source": [
    "top_cities[1:]"
   ]
  },
  {
   "cell_type": "code",
   "execution_count": 11,
   "id": "ae5b94d2",
   "metadata": {},
   "outputs": [
    {
     "data": {
      "text/plain": [
       "['New York City', 'Los Angeles', 'Washington DC']"
      ]
     },
     "execution_count": 11,
     "metadata": {},
     "output_type": "execute_result"
    }
   ],
   "source": [
    "top_cities[:3]"
   ]
  },
  {
   "cell_type": "code",
   "execution_count": 12,
   "id": "037413c9",
   "metadata": {},
   "outputs": [
    {
     "data": {
      "text/plain": [
       "['New York City', 'Los Angeles', 'Washington DC']"
      ]
     },
     "execution_count": 12,
     "metadata": {},
     "output_type": "execute_result"
    }
   ],
   "source": [
    "top_cities[:]"
   ]
  },
  {
   "cell_type": "code",
   "execution_count": 13,
   "id": "e041076d",
   "metadata": {},
   "outputs": [
    {
     "data": {
      "text/plain": [
       "['New York City', 'Los Angeles', 'Washington DC']"
      ]
     },
     "execution_count": 13,
     "metadata": {},
     "output_type": "execute_result"
    }
   ],
   "source": [
    "top_cities"
   ]
  },
  {
   "cell_type": "code",
   "execution_count": 14,
   "id": "a808ebb0",
   "metadata": {},
   "outputs": [
    {
     "data": {
      "text/plain": [
       "[]"
      ]
     },
     "execution_count": 14,
     "metadata": {},
     "output_type": "execute_result"
    }
   ],
   "source": [
    "top_cities[10:16]"
   ]
  },
  {
   "cell_type": "code",
   "execution_count": null,
   "id": "3e6b78f9",
   "metadata": {},
   "outputs": [],
   "source": []
  }
 ],
 "metadata": {
  "kernelspec": {
   "display_name": "Python 3 (ipykernel)",
   "language": "python",
   "name": "python3"
  },
  "language_info": {
   "codemirror_mode": {
    "name": "ipython",
    "version": 3
   },
   "file_extension": ".py",
   "mimetype": "text/x-python",
   "name": "python",
   "nbconvert_exporter": "python",
   "pygments_lexer": "ipython3",
   "version": "3.9.13"
  }
 },
 "nbformat": 4,
 "nbformat_minor": 5
}
