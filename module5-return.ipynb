{
 "cells": [
  {
   "cell_type": "code",
   "execution_count": 1,
   "id": "44a39128",
   "metadata": {},
   "outputs": [],
   "source": [
    "# return\n",
    "# to return a meaninful value from a function "
   ]
  },
  {
   "cell_type": "code",
   "execution_count": 4,
   "id": "3f3429f7",
   "metadata": {},
   "outputs": [],
   "source": [
    "def get_average(input_numbers):\n",
    "    sum = 0.0\n",
    "    for number in input_numbers:\n",
    "        sum += number\n",
    "    average = sum / len(input_numbers)\n",
    "    return average"
   ]
  },
  {
   "cell_type": "code",
   "execution_count": 5,
   "id": "95d69cba",
   "metadata": {},
   "outputs": [
    {
     "name": "stdout",
     "output_type": "stream",
     "text": [
      "3.0\n"
     ]
    }
   ],
   "source": [
    "print( get_average([1,2,3,4,5]))"
   ]
  },
  {
   "cell_type": "code",
   "execution_count": 6,
   "id": "c448ac1e",
   "metadata": {},
   "outputs": [
    {
     "name": "stdout",
     "output_type": "stream",
     "text": [
      "Average is above 2\n"
     ]
    }
   ],
   "source": [
    "average = get_average([1,2,3,4,5])\n",
    "if average >2:\n",
    "    print('Average is above 2')"
   ]
  },
  {
   "cell_type": "code",
   "execution_count": 9,
   "id": "490f7c3e",
   "metadata": {},
   "outputs": [
    {
     "data": {
      "text/plain": [
       "1.0"
      ]
     },
     "execution_count": 9,
     "metadata": {},
     "output_type": "execute_result"
    }
   ],
   "source": [
    "#return gives the result and exits the function\n",
    "def get_average(input_numbers):\n",
    "    sum = 0.0\n",
    "    for number in input_numbers:\n",
    "        sum += number\n",
    "    average = sum / len(input_numbers)\n",
    "    return average\n",
    "    print('Will not be shown')\n",
    "get_average([1])"
   ]
  },
  {
   "cell_type": "code",
   "execution_count": 12,
   "id": "1af28059",
   "metadata": {},
   "outputs": [
    {
     "name": "stdout",
     "output_type": "stream",
     "text": [
      "False\n",
      "None\n"
     ]
    }
   ],
   "source": [
    "def is_the_first_last_equal(number_list):\n",
    "    if len(number_list) == 0:\n",
    "        return\n",
    "    if(number_list[0] == number_list[-1]):\n",
    "        return True\n",
    "    else:\n",
    "        return False\n",
    "print(is_the_first_last_equal([1,2,3]))\n",
    "print(is_the_first_last_equal([]))"
   ]
  },
  {
   "cell_type": "code",
   "execution_count": null,
   "id": "858f96d8",
   "metadata": {},
   "outputs": [],
   "source": []
  }
 ],
 "metadata": {
  "kernelspec": {
   "display_name": "Python 3 (ipykernel)",
   "language": "python",
   "name": "python3"
  },
  "language_info": {
   "codemirror_mode": {
    "name": "ipython",
    "version": 3
   },
   "file_extension": ".py",
   "mimetype": "text/x-python",
   "name": "python",
   "nbconvert_exporter": "python",
   "pygments_lexer": "ipython3",
   "version": "3.9.13"
  }
 },
 "nbformat": 4,
 "nbformat_minor": 5
}
